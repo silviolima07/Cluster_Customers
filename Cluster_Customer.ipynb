{
  "nbformat": 4,
  "nbformat_minor": 0,
  "metadata": {
    "colab": {
      "name": "Cluster_Customer.ipynb",
      "provenance": [],
      "collapsed_sections": [
        "8mV-q3rzKXmE"
      ],
      "mount_file_id": "1tkv8Bl6OeQJDnL355m0lr2QrvaztJ93_",
      "authorship_tag": "ABX9TyMHWJj216/ULZTYp4vqI9SD",
      "include_colab_link": true
    },
    "kernelspec": {
      "name": "python3",
      "display_name": "Python 3"
    }
  },
  "cells": [
    {
      "cell_type": "markdown",
      "metadata": {
        "id": "view-in-github",
        "colab_type": "text"
      },
      "source": [
        "<a href=\"https://colab.research.google.com/github/silviolima07/Cluster_Customers/blob/main/Cluster_Customer.ipynb\" target=\"_parent\"><img src=\"https://colab.research.google.com/assets/colab-badge.svg\" alt=\"Open In Colab\"/></a>"
      ]
    },
    {
      "cell_type": "markdown",
      "metadata": {
        "id": "8AaQPFB4ZYc-"
      },
      "source": [
        "## Segmentação de Clientes\r\n",
        "### Aplicando a técnica RFM - Recency, Frequency e Monetary"
      ]
    },
    {
      "cell_type": "markdown",
      "metadata": {
        "id": "6RhEgSNoY2Ph"
      },
      "source": [
        "![alt text](https://drive.google.com/uc?id=1zvxNoVN4sKb9Tn6NNk2EXtdXODcl-n2J)"
      ]
    },
    {
      "cell_type": "markdown",
      "metadata": {
        "id": "utWS1yPrVbN5"
      },
      "source": [
        "#### As métricas RFM são importantes indicadores do comportamento de um cliente. \r\n",
        "#### A partir dos valores de Frequency (F) e Monetary (M) identifica-se um hábito de consumo.\r\n",
        "#### E a partir dos valores de Recency (R) o grau de envolvimento ou engajamento do cliente."
      ]
    },
    {
      "cell_type": "markdown",
      "metadata": {
        "id": "kEZHcVmhVqET"
      },
      "source": [
        "## Importância\r\n",
        "### Por que é importante identificar o tipo de cliente?\r\n",
        "#### -  A análise permite orientar as decisões de uma empresa visando fornecer ao cliente a melhor experiência possível\r\n",
        "#### - Fidelizar o relacionamento com o cliente\r\n",
        "#### - Planejar ações que satisfaçam ao público consumidor\r\n",
        "## Descobertas\r\n",
        "#### - Quais os clientes mais valiosos ?\r\n",
        "#### - Qual o ticket médio deles ?\r\n",
        "#### - Qual o intervalo entre compras ?\r\n",
        "#### - Quais os clientes que carecem de uma atenção maior visando estimular o consumo ?"
      ]
    },
    {
      "cell_type": "markdown",
      "metadata": {
        "id": "Qm9_pM_G178L"
      },
      "source": [
        "### Referencias:\r\n",
        "- https://www.kaggle.com/mgmarques/customer-segmentation-and-market-basket-analysis/execution\r\n",
        "- https://laptrinhx.com/rfm-customer-segmentation-using-k-means-3499769473/"
      ]
    },
    {
      "cell_type": "code",
      "metadata": {
        "id": "2tqX0D33Xkec",
        "colab": {
          "base_uri": "https://localhost:8080/",
          "height": 69
        },
        "outputId": "c3dd7e69-5813-46cb-cdab-5b4713cf7463"
      },
      "source": [
        "import numpy as np\n",
        "import pandas as pd\n",
        "import warnings\n",
        "warnings.filterwarnings(\"ignore\")\n",
        "from IPython.core.pylabtools import figsize\n",
        "from IPython.display import display, HTML\n",
        "import matplotlib.pyplot as plt\n",
        "pd.set_option('display.max_columns', 200) \n",
        "pd.set_option('display.max_rows', 400)\n",
        "import seaborn as sns\n",
        "from sklearn import metrics\n",
        "import seaborn as sns\n",
        "import matplotlib.pyplot as plt\n",
        "from sklearn.datasets import make_blobs\n",
        "from sklearn.cluster import KMeans\n",
        "from sklearn.metrics import silhouette_score\n",
        "from sklearn.preprocessing import StandardScaler\n",
        "import re\n",
        "\n",
        "import math\n",
        "import os\n",
        "import warnings\n",
        "warnings.simplefilter(action = 'ignore', category=FutureWarning)\n",
        "warnings.filterwarnings('ignore')\n",
        "def ignore_warn(*args, **kwargs):\n",
        "    pass\n",
        "\n",
        "\n",
        "%matplotlib inline\n",
        "\n",
        "\"\"\"\n",
        "import seaborn as sns\n",
        "sns.set(style=\"ticks\", color_codes=True, font_scale=1.5)\n",
        "color = sns.color_palette()\n",
        "sns.set_style('darkgrid')\n",
        "\n",
        "from mpl_toolkits.mplot3d import Axes3D\n",
        "\n",
        "%config InlineBackend.figure_format = 'svg'\n",
        "\n",
        "import seaborn as sns\n",
        "sns.set(style=\"ticks\", color_codes=True, font_scale=1.5)\n",
        "color = sns.color_palette()\n",
        "sns.set_style('darkgrid')\n",
        "\"\"\"\n"
      ],
      "execution_count": 66,
      "outputs": [
        {
          "output_type": "execute_result",
          "data": {
            "application/vnd.google.colaboratory.intrinsic+json": {
              "type": "string"
            },
            "text/plain": [
              "'\\nimport seaborn as sns\\nsns.set(style=\"ticks\", color_codes=True, font_scale=1.5)\\ncolor = sns.color_palette()\\nsns.set_style(\\'darkgrid\\')\\n\\nfrom mpl_toolkits.mplot3d import Axes3D\\n\\n%config InlineBackend.figure_format = \\'svg\\'\\n\\nimport seaborn as sns\\nsns.set(style=\"ticks\", color_codes=True, font_scale=1.5)\\ncolor = sns.color_palette()\\nsns.set_style(\\'darkgrid\\')\\n'"
            ]
          },
          "metadata": {
            "tags": []
          },
          "execution_count": 66
        }
      ]
    },
    {
      "cell_type": "code",
      "metadata": {
        "id": "IC9zLirsEZ4-"
      },
      "source": [
        "#function for ordering cluster numbers\r\n",
        "def order_cluster(cluster_field_name, target_field_name,df,ascending):\r\n",
        "    new_cluster_field_name = 'new_' + cluster_field_name\r\n",
        "    df_new = df.groupby(cluster_field_name)[target_field_name].mean().reset_index()\r\n",
        "    df_new = df_new.sort_values(by=target_field_name,ascending=ascending).reset_index(drop=True)\r\n",
        "    df_new['index'] = df_new.index\r\n",
        "    df_final = pd.merge(df,df_new[[cluster_field_name,'index']], on=cluster_field_name)\r\n",
        "    df_final = df_final.drop([cluster_field_name],axis=1)\r\n",
        "    df_final = df_final.rename(columns={\"index\":cluster_field_name})\r\n",
        "    return df_final"
      ],
      "execution_count": 67,
      "outputs": []
    },
    {
      "cell_type": "code",
      "metadata": {
        "id": "nP588ZRwbExH"
      },
      "source": [
        "# Read dataset\n",
        "ifood = pd.read_csv(\"/content/drive/MyDrive/Colab Notebooks/Dataset/Ifood/ml_project1_data.csv\")"
      ],
      "execution_count": 132,
      "outputs": []
    },
    {
      "cell_type": "code",
      "metadata": {
        "id": "OgHNwWxHbRdr",
        "colab": {
          "base_uri": "https://localhost:8080/",
          "height": 224
        },
        "outputId": "16211c4a-dd6c-41b0-ba30-1020abe36a0f"
      },
      "source": [
        "ifood.head()"
      ],
      "execution_count": 133,
      "outputs": [
        {
          "output_type": "execute_result",
          "data": {
            "text/html": [
              "<div>\n",
              "<style scoped>\n",
              "    .dataframe tbody tr th:only-of-type {\n",
              "        vertical-align: middle;\n",
              "    }\n",
              "\n",
              "    .dataframe tbody tr th {\n",
              "        vertical-align: top;\n",
              "    }\n",
              "\n",
              "    .dataframe thead th {\n",
              "        text-align: right;\n",
              "    }\n",
              "</style>\n",
              "<table border=\"1\" class=\"dataframe\">\n",
              "  <thead>\n",
              "    <tr style=\"text-align: right;\">\n",
              "      <th></th>\n",
              "      <th>ID</th>\n",
              "      <th>Year_Birth</th>\n",
              "      <th>Education</th>\n",
              "      <th>Marital_Status</th>\n",
              "      <th>Income</th>\n",
              "      <th>Kidhome</th>\n",
              "      <th>Teenhome</th>\n",
              "      <th>Dt_Customer</th>\n",
              "      <th>Recency</th>\n",
              "      <th>MntWines</th>\n",
              "      <th>MntFruits</th>\n",
              "      <th>MntMeatProducts</th>\n",
              "      <th>MntFishProducts</th>\n",
              "      <th>MntSweetProducts</th>\n",
              "      <th>MntGoldProds</th>\n",
              "      <th>NumDealsPurchases</th>\n",
              "      <th>NumWebPurchases</th>\n",
              "      <th>NumCatalogPurchases</th>\n",
              "      <th>NumStorePurchases</th>\n",
              "      <th>NumWebVisitsMonth</th>\n",
              "      <th>AcceptedCmp3</th>\n",
              "      <th>AcceptedCmp4</th>\n",
              "      <th>AcceptedCmp5</th>\n",
              "      <th>AcceptedCmp1</th>\n",
              "      <th>AcceptedCmp2</th>\n",
              "      <th>Complain</th>\n",
              "      <th>Z_CostContact</th>\n",
              "      <th>Z_Revenue</th>\n",
              "      <th>Response</th>\n",
              "    </tr>\n",
              "  </thead>\n",
              "  <tbody>\n",
              "    <tr>\n",
              "      <th>0</th>\n",
              "      <td>5524</td>\n",
              "      <td>1957</td>\n",
              "      <td>Graduation</td>\n",
              "      <td>Single</td>\n",
              "      <td>58138.0</td>\n",
              "      <td>0</td>\n",
              "      <td>0</td>\n",
              "      <td>2012-09-04</td>\n",
              "      <td>58</td>\n",
              "      <td>635</td>\n",
              "      <td>88</td>\n",
              "      <td>546</td>\n",
              "      <td>172</td>\n",
              "      <td>88</td>\n",
              "      <td>88</td>\n",
              "      <td>3</td>\n",
              "      <td>8</td>\n",
              "      <td>10</td>\n",
              "      <td>4</td>\n",
              "      <td>7</td>\n",
              "      <td>0</td>\n",
              "      <td>0</td>\n",
              "      <td>0</td>\n",
              "      <td>0</td>\n",
              "      <td>0</td>\n",
              "      <td>0</td>\n",
              "      <td>3</td>\n",
              "      <td>11</td>\n",
              "      <td>1</td>\n",
              "    </tr>\n",
              "    <tr>\n",
              "      <th>1</th>\n",
              "      <td>2174</td>\n",
              "      <td>1954</td>\n",
              "      <td>Graduation</td>\n",
              "      <td>Single</td>\n",
              "      <td>46344.0</td>\n",
              "      <td>1</td>\n",
              "      <td>1</td>\n",
              "      <td>2014-03-08</td>\n",
              "      <td>38</td>\n",
              "      <td>11</td>\n",
              "      <td>1</td>\n",
              "      <td>6</td>\n",
              "      <td>2</td>\n",
              "      <td>1</td>\n",
              "      <td>6</td>\n",
              "      <td>2</td>\n",
              "      <td>1</td>\n",
              "      <td>1</td>\n",
              "      <td>2</td>\n",
              "      <td>5</td>\n",
              "      <td>0</td>\n",
              "      <td>0</td>\n",
              "      <td>0</td>\n",
              "      <td>0</td>\n",
              "      <td>0</td>\n",
              "      <td>0</td>\n",
              "      <td>3</td>\n",
              "      <td>11</td>\n",
              "      <td>0</td>\n",
              "    </tr>\n",
              "    <tr>\n",
              "      <th>2</th>\n",
              "      <td>4141</td>\n",
              "      <td>1965</td>\n",
              "      <td>Graduation</td>\n",
              "      <td>Together</td>\n",
              "      <td>71613.0</td>\n",
              "      <td>0</td>\n",
              "      <td>0</td>\n",
              "      <td>2013-08-21</td>\n",
              "      <td>26</td>\n",
              "      <td>426</td>\n",
              "      <td>49</td>\n",
              "      <td>127</td>\n",
              "      <td>111</td>\n",
              "      <td>21</td>\n",
              "      <td>42</td>\n",
              "      <td>1</td>\n",
              "      <td>8</td>\n",
              "      <td>2</td>\n",
              "      <td>10</td>\n",
              "      <td>4</td>\n",
              "      <td>0</td>\n",
              "      <td>0</td>\n",
              "      <td>0</td>\n",
              "      <td>0</td>\n",
              "      <td>0</td>\n",
              "      <td>0</td>\n",
              "      <td>3</td>\n",
              "      <td>11</td>\n",
              "      <td>0</td>\n",
              "    </tr>\n",
              "    <tr>\n",
              "      <th>3</th>\n",
              "      <td>6182</td>\n",
              "      <td>1984</td>\n",
              "      <td>Graduation</td>\n",
              "      <td>Together</td>\n",
              "      <td>26646.0</td>\n",
              "      <td>1</td>\n",
              "      <td>0</td>\n",
              "      <td>2014-02-10</td>\n",
              "      <td>26</td>\n",
              "      <td>11</td>\n",
              "      <td>4</td>\n",
              "      <td>20</td>\n",
              "      <td>10</td>\n",
              "      <td>3</td>\n",
              "      <td>5</td>\n",
              "      <td>2</td>\n",
              "      <td>2</td>\n",
              "      <td>0</td>\n",
              "      <td>4</td>\n",
              "      <td>6</td>\n",
              "      <td>0</td>\n",
              "      <td>0</td>\n",
              "      <td>0</td>\n",
              "      <td>0</td>\n",
              "      <td>0</td>\n",
              "      <td>0</td>\n",
              "      <td>3</td>\n",
              "      <td>11</td>\n",
              "      <td>0</td>\n",
              "    </tr>\n",
              "    <tr>\n",
              "      <th>4</th>\n",
              "      <td>5324</td>\n",
              "      <td>1981</td>\n",
              "      <td>PhD</td>\n",
              "      <td>Married</td>\n",
              "      <td>58293.0</td>\n",
              "      <td>1</td>\n",
              "      <td>0</td>\n",
              "      <td>2014-01-19</td>\n",
              "      <td>94</td>\n",
              "      <td>173</td>\n",
              "      <td>43</td>\n",
              "      <td>118</td>\n",
              "      <td>46</td>\n",
              "      <td>27</td>\n",
              "      <td>15</td>\n",
              "      <td>5</td>\n",
              "      <td>5</td>\n",
              "      <td>3</td>\n",
              "      <td>6</td>\n",
              "      <td>5</td>\n",
              "      <td>0</td>\n",
              "      <td>0</td>\n",
              "      <td>0</td>\n",
              "      <td>0</td>\n",
              "      <td>0</td>\n",
              "      <td>0</td>\n",
              "      <td>3</td>\n",
              "      <td>11</td>\n",
              "      <td>0</td>\n",
              "    </tr>\n",
              "  </tbody>\n",
              "</table>\n",
              "</div>"
            ],
            "text/plain": [
              "     ID  Year_Birth   Education Marital_Status   Income  Kidhome  Teenhome  \\\n",
              "0  5524        1957  Graduation         Single  58138.0        0         0   \n",
              "1  2174        1954  Graduation         Single  46344.0        1         1   \n",
              "2  4141        1965  Graduation       Together  71613.0        0         0   \n",
              "3  6182        1984  Graduation       Together  26646.0        1         0   \n",
              "4  5324        1981         PhD        Married  58293.0        1         0   \n",
              "\n",
              "  Dt_Customer  Recency  MntWines  MntFruits  MntMeatProducts  MntFishProducts  \\\n",
              "0  2012-09-04       58       635         88              546              172   \n",
              "1  2014-03-08       38        11          1                6                2   \n",
              "2  2013-08-21       26       426         49              127              111   \n",
              "3  2014-02-10       26        11          4               20               10   \n",
              "4  2014-01-19       94       173         43              118               46   \n",
              "\n",
              "   MntSweetProducts  MntGoldProds  NumDealsPurchases  NumWebPurchases  \\\n",
              "0                88            88                  3                8   \n",
              "1                 1             6                  2                1   \n",
              "2                21            42                  1                8   \n",
              "3                 3             5                  2                2   \n",
              "4                27            15                  5                5   \n",
              "\n",
              "   NumCatalogPurchases  NumStorePurchases  NumWebVisitsMonth  AcceptedCmp3  \\\n",
              "0                   10                  4                  7             0   \n",
              "1                    1                  2                  5             0   \n",
              "2                    2                 10                  4             0   \n",
              "3                    0                  4                  6             0   \n",
              "4                    3                  6                  5             0   \n",
              "\n",
              "   AcceptedCmp4  AcceptedCmp5  AcceptedCmp1  AcceptedCmp2  Complain  \\\n",
              "0             0             0             0             0         0   \n",
              "1             0             0             0             0         0   \n",
              "2             0             0             0             0         0   \n",
              "3             0             0             0             0         0   \n",
              "4             0             0             0             0         0   \n",
              "\n",
              "   Z_CostContact  Z_Revenue  Response  \n",
              "0              3         11         1  \n",
              "1              3         11         0  \n",
              "2              3         11         0  \n",
              "3              3         11         0  \n",
              "4              3         11         0  "
            ]
          },
          "metadata": {
            "tags": []
          },
          "execution_count": 133
        }
      ]
    },
    {
      "cell_type": "code",
      "metadata": {
        "id": "MWb7KqVEY-Ya",
        "colab": {
          "base_uri": "https://localhost:8080/",
          "height": 855
        },
        "outputId": "11f9b574-1eec-4843-f19c-0a4cd6e6d1a2"
      },
      "source": [
        "ifood.describe().T"
      ],
      "execution_count": 70,
      "outputs": [
        {
          "output_type": "execute_result",
          "data": {
            "text/html": [
              "<div>\n",
              "<style scoped>\n",
              "    .dataframe tbody tr th:only-of-type {\n",
              "        vertical-align: middle;\n",
              "    }\n",
              "\n",
              "    .dataframe tbody tr th {\n",
              "        vertical-align: top;\n",
              "    }\n",
              "\n",
              "    .dataframe thead th {\n",
              "        text-align: right;\n",
              "    }\n",
              "</style>\n",
              "<table border=\"1\" class=\"dataframe\">\n",
              "  <thead>\n",
              "    <tr style=\"text-align: right;\">\n",
              "      <th></th>\n",
              "      <th>count</th>\n",
              "      <th>mean</th>\n",
              "      <th>std</th>\n",
              "      <th>min</th>\n",
              "      <th>25%</th>\n",
              "      <th>50%</th>\n",
              "      <th>75%</th>\n",
              "      <th>max</th>\n",
              "    </tr>\n",
              "  </thead>\n",
              "  <tbody>\n",
              "    <tr>\n",
              "      <th>ID</th>\n",
              "      <td>2240.0</td>\n",
              "      <td>5592.159821</td>\n",
              "      <td>3246.662198</td>\n",
              "      <td>0.0</td>\n",
              "      <td>2828.25</td>\n",
              "      <td>5458.5</td>\n",
              "      <td>8427.75</td>\n",
              "      <td>11191.0</td>\n",
              "    </tr>\n",
              "    <tr>\n",
              "      <th>Year_Birth</th>\n",
              "      <td>2240.0</td>\n",
              "      <td>1968.805804</td>\n",
              "      <td>11.984069</td>\n",
              "      <td>1893.0</td>\n",
              "      <td>1959.00</td>\n",
              "      <td>1970.0</td>\n",
              "      <td>1977.00</td>\n",
              "      <td>1996.0</td>\n",
              "    </tr>\n",
              "    <tr>\n",
              "      <th>Income</th>\n",
              "      <td>2216.0</td>\n",
              "      <td>52247.251354</td>\n",
              "      <td>25173.076661</td>\n",
              "      <td>1730.0</td>\n",
              "      <td>35303.00</td>\n",
              "      <td>51381.5</td>\n",
              "      <td>68522.00</td>\n",
              "      <td>666666.0</td>\n",
              "    </tr>\n",
              "    <tr>\n",
              "      <th>Kidhome</th>\n",
              "      <td>2240.0</td>\n",
              "      <td>0.444196</td>\n",
              "      <td>0.538398</td>\n",
              "      <td>0.0</td>\n",
              "      <td>0.00</td>\n",
              "      <td>0.0</td>\n",
              "      <td>1.00</td>\n",
              "      <td>2.0</td>\n",
              "    </tr>\n",
              "    <tr>\n",
              "      <th>Teenhome</th>\n",
              "      <td>2240.0</td>\n",
              "      <td>0.506250</td>\n",
              "      <td>0.544538</td>\n",
              "      <td>0.0</td>\n",
              "      <td>0.00</td>\n",
              "      <td>0.0</td>\n",
              "      <td>1.00</td>\n",
              "      <td>2.0</td>\n",
              "    </tr>\n",
              "    <tr>\n",
              "      <th>Recency</th>\n",
              "      <td>2240.0</td>\n",
              "      <td>49.109375</td>\n",
              "      <td>28.962453</td>\n",
              "      <td>0.0</td>\n",
              "      <td>24.00</td>\n",
              "      <td>49.0</td>\n",
              "      <td>74.00</td>\n",
              "      <td>99.0</td>\n",
              "    </tr>\n",
              "    <tr>\n",
              "      <th>MntWines</th>\n",
              "      <td>2240.0</td>\n",
              "      <td>303.935714</td>\n",
              "      <td>336.597393</td>\n",
              "      <td>0.0</td>\n",
              "      <td>23.75</td>\n",
              "      <td>173.5</td>\n",
              "      <td>504.25</td>\n",
              "      <td>1493.0</td>\n",
              "    </tr>\n",
              "    <tr>\n",
              "      <th>MntFruits</th>\n",
              "      <td>2240.0</td>\n",
              "      <td>26.302232</td>\n",
              "      <td>39.773434</td>\n",
              "      <td>0.0</td>\n",
              "      <td>1.00</td>\n",
              "      <td>8.0</td>\n",
              "      <td>33.00</td>\n",
              "      <td>199.0</td>\n",
              "    </tr>\n",
              "    <tr>\n",
              "      <th>MntMeatProducts</th>\n",
              "      <td>2240.0</td>\n",
              "      <td>166.950000</td>\n",
              "      <td>225.715373</td>\n",
              "      <td>0.0</td>\n",
              "      <td>16.00</td>\n",
              "      <td>67.0</td>\n",
              "      <td>232.00</td>\n",
              "      <td>1725.0</td>\n",
              "    </tr>\n",
              "    <tr>\n",
              "      <th>MntFishProducts</th>\n",
              "      <td>2240.0</td>\n",
              "      <td>37.525446</td>\n",
              "      <td>54.628979</td>\n",
              "      <td>0.0</td>\n",
              "      <td>3.00</td>\n",
              "      <td>12.0</td>\n",
              "      <td>50.00</td>\n",
              "      <td>259.0</td>\n",
              "    </tr>\n",
              "    <tr>\n",
              "      <th>MntSweetProducts</th>\n",
              "      <td>2240.0</td>\n",
              "      <td>27.062946</td>\n",
              "      <td>41.280498</td>\n",
              "      <td>0.0</td>\n",
              "      <td>1.00</td>\n",
              "      <td>8.0</td>\n",
              "      <td>33.00</td>\n",
              "      <td>263.0</td>\n",
              "    </tr>\n",
              "    <tr>\n",
              "      <th>MntGoldProds</th>\n",
              "      <td>2240.0</td>\n",
              "      <td>44.021875</td>\n",
              "      <td>52.167439</td>\n",
              "      <td>0.0</td>\n",
              "      <td>9.00</td>\n",
              "      <td>24.0</td>\n",
              "      <td>56.00</td>\n",
              "      <td>362.0</td>\n",
              "    </tr>\n",
              "    <tr>\n",
              "      <th>NumDealsPurchases</th>\n",
              "      <td>2240.0</td>\n",
              "      <td>2.325000</td>\n",
              "      <td>1.932238</td>\n",
              "      <td>0.0</td>\n",
              "      <td>1.00</td>\n",
              "      <td>2.0</td>\n",
              "      <td>3.00</td>\n",
              "      <td>15.0</td>\n",
              "    </tr>\n",
              "    <tr>\n",
              "      <th>NumWebPurchases</th>\n",
              "      <td>2240.0</td>\n",
              "      <td>4.084821</td>\n",
              "      <td>2.778714</td>\n",
              "      <td>0.0</td>\n",
              "      <td>2.00</td>\n",
              "      <td>4.0</td>\n",
              "      <td>6.00</td>\n",
              "      <td>27.0</td>\n",
              "    </tr>\n",
              "    <tr>\n",
              "      <th>NumCatalogPurchases</th>\n",
              "      <td>2240.0</td>\n",
              "      <td>2.662054</td>\n",
              "      <td>2.923101</td>\n",
              "      <td>0.0</td>\n",
              "      <td>0.00</td>\n",
              "      <td>2.0</td>\n",
              "      <td>4.00</td>\n",
              "      <td>28.0</td>\n",
              "    </tr>\n",
              "    <tr>\n",
              "      <th>NumStorePurchases</th>\n",
              "      <td>2240.0</td>\n",
              "      <td>5.790179</td>\n",
              "      <td>3.250958</td>\n",
              "      <td>0.0</td>\n",
              "      <td>3.00</td>\n",
              "      <td>5.0</td>\n",
              "      <td>8.00</td>\n",
              "      <td>13.0</td>\n",
              "    </tr>\n",
              "    <tr>\n",
              "      <th>NumWebVisitsMonth</th>\n",
              "      <td>2240.0</td>\n",
              "      <td>5.316518</td>\n",
              "      <td>2.426645</td>\n",
              "      <td>0.0</td>\n",
              "      <td>3.00</td>\n",
              "      <td>6.0</td>\n",
              "      <td>7.00</td>\n",
              "      <td>20.0</td>\n",
              "    </tr>\n",
              "    <tr>\n",
              "      <th>AcceptedCmp3</th>\n",
              "      <td>2240.0</td>\n",
              "      <td>0.072768</td>\n",
              "      <td>0.259813</td>\n",
              "      <td>0.0</td>\n",
              "      <td>0.00</td>\n",
              "      <td>0.0</td>\n",
              "      <td>0.00</td>\n",
              "      <td>1.0</td>\n",
              "    </tr>\n",
              "    <tr>\n",
              "      <th>AcceptedCmp4</th>\n",
              "      <td>2240.0</td>\n",
              "      <td>0.074554</td>\n",
              "      <td>0.262728</td>\n",
              "      <td>0.0</td>\n",
              "      <td>0.00</td>\n",
              "      <td>0.0</td>\n",
              "      <td>0.00</td>\n",
              "      <td>1.0</td>\n",
              "    </tr>\n",
              "    <tr>\n",
              "      <th>AcceptedCmp5</th>\n",
              "      <td>2240.0</td>\n",
              "      <td>0.072768</td>\n",
              "      <td>0.259813</td>\n",
              "      <td>0.0</td>\n",
              "      <td>0.00</td>\n",
              "      <td>0.0</td>\n",
              "      <td>0.00</td>\n",
              "      <td>1.0</td>\n",
              "    </tr>\n",
              "    <tr>\n",
              "      <th>AcceptedCmp1</th>\n",
              "      <td>2240.0</td>\n",
              "      <td>0.064286</td>\n",
              "      <td>0.245316</td>\n",
              "      <td>0.0</td>\n",
              "      <td>0.00</td>\n",
              "      <td>0.0</td>\n",
              "      <td>0.00</td>\n",
              "      <td>1.0</td>\n",
              "    </tr>\n",
              "    <tr>\n",
              "      <th>AcceptedCmp2</th>\n",
              "      <td>2240.0</td>\n",
              "      <td>0.013393</td>\n",
              "      <td>0.114976</td>\n",
              "      <td>0.0</td>\n",
              "      <td>0.00</td>\n",
              "      <td>0.0</td>\n",
              "      <td>0.00</td>\n",
              "      <td>1.0</td>\n",
              "    </tr>\n",
              "    <tr>\n",
              "      <th>Complain</th>\n",
              "      <td>2240.0</td>\n",
              "      <td>0.009375</td>\n",
              "      <td>0.096391</td>\n",
              "      <td>0.0</td>\n",
              "      <td>0.00</td>\n",
              "      <td>0.0</td>\n",
              "      <td>0.00</td>\n",
              "      <td>1.0</td>\n",
              "    </tr>\n",
              "    <tr>\n",
              "      <th>Z_CostContact</th>\n",
              "      <td>2240.0</td>\n",
              "      <td>3.000000</td>\n",
              "      <td>0.000000</td>\n",
              "      <td>3.0</td>\n",
              "      <td>3.00</td>\n",
              "      <td>3.0</td>\n",
              "      <td>3.00</td>\n",
              "      <td>3.0</td>\n",
              "    </tr>\n",
              "    <tr>\n",
              "      <th>Z_Revenue</th>\n",
              "      <td>2240.0</td>\n",
              "      <td>11.000000</td>\n",
              "      <td>0.000000</td>\n",
              "      <td>11.0</td>\n",
              "      <td>11.00</td>\n",
              "      <td>11.0</td>\n",
              "      <td>11.00</td>\n",
              "      <td>11.0</td>\n",
              "    </tr>\n",
              "    <tr>\n",
              "      <th>Response</th>\n",
              "      <td>2240.0</td>\n",
              "      <td>0.149107</td>\n",
              "      <td>0.356274</td>\n",
              "      <td>0.0</td>\n",
              "      <td>0.00</td>\n",
              "      <td>0.0</td>\n",
              "      <td>0.00</td>\n",
              "      <td>1.0</td>\n",
              "    </tr>\n",
              "  </tbody>\n",
              "</table>\n",
              "</div>"
            ],
            "text/plain": [
              "                      count          mean           std     min       25%  \\\n",
              "ID                   2240.0   5592.159821   3246.662198     0.0   2828.25   \n",
              "Year_Birth           2240.0   1968.805804     11.984069  1893.0   1959.00   \n",
              "Income               2216.0  52247.251354  25173.076661  1730.0  35303.00   \n",
              "Kidhome              2240.0      0.444196      0.538398     0.0      0.00   \n",
              "Teenhome             2240.0      0.506250      0.544538     0.0      0.00   \n",
              "Recency              2240.0     49.109375     28.962453     0.0     24.00   \n",
              "MntWines             2240.0    303.935714    336.597393     0.0     23.75   \n",
              "MntFruits            2240.0     26.302232     39.773434     0.0      1.00   \n",
              "MntMeatProducts      2240.0    166.950000    225.715373     0.0     16.00   \n",
              "MntFishProducts      2240.0     37.525446     54.628979     0.0      3.00   \n",
              "MntSweetProducts     2240.0     27.062946     41.280498     0.0      1.00   \n",
              "MntGoldProds         2240.0     44.021875     52.167439     0.0      9.00   \n",
              "NumDealsPurchases    2240.0      2.325000      1.932238     0.0      1.00   \n",
              "NumWebPurchases      2240.0      4.084821      2.778714     0.0      2.00   \n",
              "NumCatalogPurchases  2240.0      2.662054      2.923101     0.0      0.00   \n",
              "NumStorePurchases    2240.0      5.790179      3.250958     0.0      3.00   \n",
              "NumWebVisitsMonth    2240.0      5.316518      2.426645     0.0      3.00   \n",
              "AcceptedCmp3         2240.0      0.072768      0.259813     0.0      0.00   \n",
              "AcceptedCmp4         2240.0      0.074554      0.262728     0.0      0.00   \n",
              "AcceptedCmp5         2240.0      0.072768      0.259813     0.0      0.00   \n",
              "AcceptedCmp1         2240.0      0.064286      0.245316     0.0      0.00   \n",
              "AcceptedCmp2         2240.0      0.013393      0.114976     0.0      0.00   \n",
              "Complain             2240.0      0.009375      0.096391     0.0      0.00   \n",
              "Z_CostContact        2240.0      3.000000      0.000000     3.0      3.00   \n",
              "Z_Revenue            2240.0     11.000000      0.000000    11.0     11.00   \n",
              "Response             2240.0      0.149107      0.356274     0.0      0.00   \n",
              "\n",
              "                         50%       75%       max  \n",
              "ID                    5458.5   8427.75   11191.0  \n",
              "Year_Birth            1970.0   1977.00    1996.0  \n",
              "Income               51381.5  68522.00  666666.0  \n",
              "Kidhome                  0.0      1.00       2.0  \n",
              "Teenhome                 0.0      1.00       2.0  \n",
              "Recency                 49.0     74.00      99.0  \n",
              "MntWines               173.5    504.25    1493.0  \n",
              "MntFruits                8.0     33.00     199.0  \n",
              "MntMeatProducts         67.0    232.00    1725.0  \n",
              "MntFishProducts         12.0     50.00     259.0  \n",
              "MntSweetProducts         8.0     33.00     263.0  \n",
              "MntGoldProds            24.0     56.00     362.0  \n",
              "NumDealsPurchases        2.0      3.00      15.0  \n",
              "NumWebPurchases          4.0      6.00      27.0  \n",
              "NumCatalogPurchases      2.0      4.00      28.0  \n",
              "NumStorePurchases        5.0      8.00      13.0  \n",
              "NumWebVisitsMonth        6.0      7.00      20.0  \n",
              "AcceptedCmp3             0.0      0.00       1.0  \n",
              "AcceptedCmp4             0.0      0.00       1.0  \n",
              "AcceptedCmp5             0.0      0.00       1.0  \n",
              "AcceptedCmp1             0.0      0.00       1.0  \n",
              "AcceptedCmp2             0.0      0.00       1.0  \n",
              "Complain                 0.0      0.00       1.0  \n",
              "Z_CostContact            3.0      3.00       3.0  \n",
              "Z_Revenue               11.0     11.00      11.0  \n",
              "Response                 0.0      0.00       1.0  "
            ]
          },
          "metadata": {
            "tags": []
          },
          "execution_count": 70
        }
      ]
    },
    {
      "cell_type": "code",
      "metadata": {
        "id": "D5AObo3cbWCc",
        "colab": {
          "base_uri": "https://localhost:8080/"
        },
        "outputId": "07ff5649-dfc2-43e5-aca0-06b65d8e34db"
      },
      "source": [
        "ifood.columns"
      ],
      "execution_count": 71,
      "outputs": [
        {
          "output_type": "execute_result",
          "data": {
            "text/plain": [
              "Index(['ID', 'Year_Birth', 'Education', 'Marital_Status', 'Income', 'Kidhome',\n",
              "       'Teenhome', 'Dt_Customer', 'Recency', 'MntWines', 'MntFruits',\n",
              "       'MntMeatProducts', 'MntFishProducts', 'MntSweetProducts',\n",
              "       'MntGoldProds', 'NumDealsPurchases', 'NumWebPurchases',\n",
              "       'NumCatalogPurchases', 'NumStorePurchases', 'NumWebVisitsMonth',\n",
              "       'AcceptedCmp3', 'AcceptedCmp4', 'AcceptedCmp5', 'AcceptedCmp1',\n",
              "       'AcceptedCmp2', 'Complain', 'Z_CostContact', 'Z_Revenue', 'Response'],\n",
              "      dtype='object')"
            ]
          },
          "metadata": {
            "tags": []
          },
          "execution_count": 71
        }
      ]
    },
    {
      "cell_type": "code",
      "metadata": {
        "id": "NKeavyW9644s",
        "colab": {
          "base_uri": "https://localhost:8080/"
        },
        "outputId": "becb1093-b8b4-4793-eb8e-4964f064a4cf"
      },
      "source": [
        "ifood.info()"
      ],
      "execution_count": 72,
      "outputs": [
        {
          "output_type": "stream",
          "text": [
            "<class 'pandas.core.frame.DataFrame'>\n",
            "RangeIndex: 2240 entries, 0 to 2239\n",
            "Data columns (total 29 columns):\n",
            " #   Column               Non-Null Count  Dtype  \n",
            "---  ------               --------------  -----  \n",
            " 0   ID                   2240 non-null   int64  \n",
            " 1   Year_Birth           2240 non-null   int64  \n",
            " 2   Education            2240 non-null   object \n",
            " 3   Marital_Status       2240 non-null   object \n",
            " 4   Income               2216 non-null   float64\n",
            " 5   Kidhome              2240 non-null   int64  \n",
            " 6   Teenhome             2240 non-null   int64  \n",
            " 7   Dt_Customer          2240 non-null   object \n",
            " 8   Recency              2240 non-null   int64  \n",
            " 9   MntWines             2240 non-null   int64  \n",
            " 10  MntFruits            2240 non-null   int64  \n",
            " 11  MntMeatProducts      2240 non-null   int64  \n",
            " 12  MntFishProducts      2240 non-null   int64  \n",
            " 13  MntSweetProducts     2240 non-null   int64  \n",
            " 14  MntGoldProds         2240 non-null   int64  \n",
            " 15  NumDealsPurchases    2240 non-null   int64  \n",
            " 16  NumWebPurchases      2240 non-null   int64  \n",
            " 17  NumCatalogPurchases  2240 non-null   int64  \n",
            " 18  NumStorePurchases    2240 non-null   int64  \n",
            " 19  NumWebVisitsMonth    2240 non-null   int64  \n",
            " 20  AcceptedCmp3         2240 non-null   int64  \n",
            " 21  AcceptedCmp4         2240 non-null   int64  \n",
            " 22  AcceptedCmp5         2240 non-null   int64  \n",
            " 23  AcceptedCmp1         2240 non-null   int64  \n",
            " 24  AcceptedCmp2         2240 non-null   int64  \n",
            " 25  Complain             2240 non-null   int64  \n",
            " 26  Z_CostContact        2240 non-null   int64  \n",
            " 27  Z_Revenue            2240 non-null   int64  \n",
            " 28  Response             2240 non-null   int64  \n",
            "dtypes: float64(1), int64(25), object(3)\n",
            "memory usage: 507.6+ KB\n"
          ],
          "name": "stdout"
        }
      ]
    },
    {
      "cell_type": "code",
      "metadata": {
        "id": "6QzPyT825U6b"
      },
      "source": [
        " ifood.fillna(ifood.mean(), inplace=True)"
      ],
      "execution_count": 134,
      "outputs": []
    },
    {
      "cell_type": "code",
      "metadata": {
        "id": "0LTRAeT-5t4r"
      },
      "source": [
        "#ifood.isnull().sum()"
      ],
      "execution_count": null,
      "outputs": []
    },
    {
      "cell_type": "markdown",
      "metadata": {
        "id": "dS3vVaCpghw1"
      },
      "source": [
        "# Questão: Qual a distribuição de idades ?"
      ]
    },
    {
      "cell_type": "markdown",
      "metadata": {
        "id": "ZH-SsNI3IlVg"
      },
      "source": [
        "### A maior faixa de idade dos clientes esta entre 45 e 50"
      ]
    },
    {
      "cell_type": "code",
      "metadata": {
        "id": "SLHqEGJqgfMQ"
      },
      "source": [
        "def hist_plot(df,var,bins=20):\n",
        "  return df.hist(column = var, figsize=(7,6), bins=bins);"
      ],
      "execution_count": 75,
      "outputs": []
    },
    {
      "cell_type": "code",
      "metadata": {
        "id": "l1EVv7WihjQ0"
      },
      "source": [
        "import datetime\n",
        "year = datetime.datetime.today().year\n",
        "def idade ():\n",
        "  n = year - ifood.Year_Birth\n",
        "  return n"
      ],
      "execution_count": 76,
      "outputs": []
    },
    {
      "cell_type": "code",
      "metadata": {
        "id": "N2-ZoRJHiCd9"
      },
      "source": [
        "ifood['Age'] = idade() "
      ],
      "execution_count": 77,
      "outputs": []
    },
    {
      "cell_type": "code",
      "metadata": {
        "id": "GW84WzwNjzNd",
        "colab": {
          "base_uri": "https://localhost:8080/",
          "height": 393
        },
        "outputId": "4153a91e-6ec3-406a-a1e9-7b77ecece5d7"
      },
      "source": [
        "hist_plot(ifood, 'Age');"
      ],
      "execution_count": 78,
      "outputs": [
        {
          "output_type": "display_data",
          "data": {
            "image/png": "[encoded data removed]",
            "text/plain": [
              "<Figure size 504x432 with 1 Axes>"
            ]
          },
          "metadata": {
            "tags": [],
            "needs_background": "light"
          }
        }
      ]
    },
    {
      "cell_type": "markdown",
      "metadata": {
        "id": "8Qe0CUakJWKu"
      },
      "source": [
        "# Questão: Qual o nível de ensino dos clientes ?"
      ]
    },
    {
      "cell_type": "markdown",
      "metadata": {
        "id": "8mV-q3rzKXmE"
      },
      "source": [
        "### Graduation - 50,31%\n",
        "### PhD        - 21,70%\n",
        "### Master     - 16,52%\n",
        "### 2n Cycle   - 9,06%\n",
        "### Basic      - 2,41%"
      ]
    },
    {
      "cell_type": "code",
      "metadata": {
        "id": "pOgnskVBJ5z0",
        "colab": {
          "base_uri": "https://localhost:8080/"
        },
        "outputId": "aef98323-82ab-40da-8d03-c07e9e35f491"
      },
      "source": [
        "ifood.Education.value_counts(normalize=True)"
      ],
      "execution_count": 135,
      "outputs": [
        {
          "output_type": "execute_result",
          "data": {
            "text/plain": [
              "Graduation    0.503125\n",
              "PhD           0.216964\n",
              "Master        0.165179\n",
              "2n Cycle      0.090625\n",
              "Basic         0.024107\n",
              "Name: Education, dtype: float64"
            ]
          },
          "metadata": {
            "tags": []
          },
          "execution_count": 135
        }
      ]
    },
    {
      "cell_type": "code",
      "metadata": {
        "id": "pfbQy1Cca3Lh",
        "colab": {
          "base_uri": "https://localhost:8080/",
          "height": 285
        },
        "outputId": "2c01e68f-d10c-49b5-cf4f-33f874e2c390"
      },
      "source": [
        "ax = sns.countplot(x=\"Education\", data=ifood)"
      ],
      "execution_count": 80,
      "outputs": [
        {
          "output_type": "display_data",
          "data": {
            "image/png": "[encoded data removed]",
            "text/plain": [
              "<Figure size 432x288 with 1 Axes>"
            ]
          },
          "metadata": {
            "tags": [],
            "needs_background": "light"
          }
        }
      ]
    },
    {
      "cell_type": "markdown",
      "metadata": {
        "id": "cKSNSW26QKvI"
      },
      "source": [
        "# Questão: Qual a distribuição dos estados civis ?"
      ]
    },
    {
      "cell_type": "markdown",
      "metadata": {
        "id": "vSWGgUfeSIGQ"
      },
      "source": [
        "### As três maiores são:\n",
        "### Married  - 846 ou 38,57%\n",
        "### Together - 580 ou 25,90%\n",
        "### Single   - 480 ou 21,43%"
      ]
    },
    {
      "cell_type": "code",
      "metadata": {
        "id": "A-0Bu0vbQIXL",
        "colab": {
          "base_uri": "https://localhost:8080/"
        },
        "outputId": "7e6609ae-dd8c-4c99-f876-647816071aa0"
      },
      "source": [
        "ifood.Marital_Status.value_counts()"
      ],
      "execution_count": 136,
      "outputs": [
        {
          "output_type": "execute_result",
          "data": {
            "text/plain": [
              "Married     864\n",
              "Together    580\n",
              "Single      480\n",
              "Divorced    232\n",
              "Widow        77\n",
              "Alone         3\n",
              "YOLO          2\n",
              "Absurd        2\n",
              "Name: Marital_Status, dtype: int64"
            ]
          },
          "metadata": {
            "tags": []
          },
          "execution_count": 136
        }
      ]
    },
    {
      "cell_type": "code",
      "metadata": {
        "id": "kKoZ3IsLReUE",
        "colab": {
          "base_uri": "https://localhost:8080/"
        },
        "outputId": "bbb28540-e91b-46ad-8598-25f6af947d4a"
      },
      "source": [
        "ifood['Marital_Status'].value_counts(normalize = True)"
      ],
      "execution_count": 139,
      "outputs": [
        {
          "output_type": "execute_result",
          "data": {
            "text/plain": [
              "Married     0.385714\n",
              "Together    0.258929\n",
              "Single      0.214286\n",
              "Divorced    0.103571\n",
              "Widow       0.034375\n",
              "Alone       0.001339\n",
              "YOLO        0.000893\n",
              "Absurd      0.000893\n",
              "Name: Marital_Status, dtype: float64"
            ]
          },
          "metadata": {
            "tags": []
          },
          "execution_count": 139
        }
      ]
    },
    {
      "cell_type": "code",
      "metadata": {
        "id": "3Q7G4msLbXcU",
        "colab": {
          "base_uri": "https://localhost:8080/",
          "height": 285
        },
        "outputId": "b6875b3f-cfdf-437f-b75e-8e9edaad5d9b"
      },
      "source": [
        "ax = sns.countplot(x=\"Marital_Status\", data=ifood)"
      ],
      "execution_count": 144,
      "outputs": [
        {
          "output_type": "display_data",
          "data": {
            "image/png": "[encoded data removed]",
            "text/plain": [
              "<Figure size 432x288 with 1 Axes>"
            ]
          },
          "metadata": {
            "tags": []
          }
        }
      ]
    },
    {
      "cell_type": "code",
      "metadata": {
        "id": "hof6uEHfb7KW"
      },
      "source": [
        ""
      ],
      "execution_count": 83,
      "outputs": []
    },
    {
      "cell_type": "code",
      "metadata": {
        "id": "UgzxThrDgAOv"
      },
      "source": [
        "ifood['Marital_Status'].replace(to_replace=dict(Single='oneperson', Divorced='oneperson'), inplace=True)"
      ],
      "execution_count": 141,
      "outputs": []
    },
    {
      "cell_type": "code",
      "metadata": {
        "id": "VDT6dFHRgKV-"
      },
      "source": [
        "ifood['Marital_Status'].replace(to_replace=dict(Married='couple', Together='couple'), inplace=True)"
      ],
      "execution_count": 143,
      "outputs": []
    },
    {
      "cell_type": "code",
      "metadata": {
        "id": "0zBhxe4KnMmB",
        "colab": {
          "base_uri": "https://localhost:8080/",
          "height": 285
        },
        "outputId": "0edb2131-8180-46fd-8b7c-68f73bbd4882"
      },
      "source": [
        "ax = sns.countplot(x=\"Marital_Status\", data=ifood)"
      ],
      "execution_count": 145,
      "outputs": [
        {
          "output_type": "display_data",
          "data": {
            "image/png": "[encoded data removed]",
            "text/plain": [
              "<Figure size 432x288 with 1 Axes>"
            ]
          },
          "metadata": {
            "tags": []
          }
        }
      ]
    },
    {
      "cell_type": "markdown",
      "metadata": {
        "id": "SilMZQpTWiTq"
      },
      "source": [
        "# Questão: Qual a distribuição do income ?\n"
      ]
    },
    {
      "cell_type": "markdown",
      "metadata": {
        "id": "9cR3qmkkbtfA"
      },
      "source": [
        "### Maioria esta entre 50k e 100k"
      ]
    },
    {
      "cell_type": "code",
      "metadata": {
        "id": "xYRVp1uDWiw8",
        "colab": {
          "base_uri": "https://localhost:8080/",
          "height": 427
        },
        "outputId": "2dacba93-2155-4dd1-e668-87b46ce9457c"
      },
      "source": [
        "hist_plot(ifood,'Income',20)"
      ],
      "execution_count": 87,
      "outputs": [
        {
          "output_type": "execute_result",
          "data": {
            "text/plain": [
              "array([[<matplotlib.axes._subplots.AxesSubplot object at 0x7f87eb195588>]],\n",
              "      dtype=object)"
            ]
          },
          "metadata": {
            "tags": []
          },
          "execution_count": 87
        },
        {
          "output_type": "display_data",
          "data": {
            "image/png": "[encoded data removed]",
            "text/plain": [
              "<Figure size 504x432 with 1 Axes>"
            ]
          },
          "metadata": {
            "tags": [],
            "needs_background": "light"
          }
        }
      ]
    },
    {
      "cell_type": "markdown",
      "metadata": {
        "id": "e_F8UOac2b7K"
      },
      "source": [
        ""
      ]
    },
    {
      "cell_type": "markdown",
      "metadata": {
        "id": "K5DfVbyU1oJ1"
      },
      "source": [
        "### Uma técnica aplicada na segmentação de clientes é conhecida como RFM.\r\n",
        "### Recency (R) - número de dias desde a última compra.\r\n",
        "### Frequency (F) - número de compras efetuadas num periodo.\r\n",
        "### Monetary (M)  - Volume total de vendas"
      ]
    },
    {
      "cell_type": "markdown",
      "metadata": {
        "id": "oVN7G1xoh6cd"
      },
      "source": [
        "### Recency\r\n",
        "### O histograma mostra uma distribuição onde existe um consumo em periodos com 10 dias de intervalo.\r\n"
      ]
    },
    {
      "cell_type": "code",
      "metadata": {
        "colab": {
          "base_uri": "https://localhost:8080/",
          "height": 285
        },
        "id": "noYAQgljgVaJ",
        "outputId": "1c445523-de2c-40be-ec62-026a2140fcb6"
      },
      "source": [
        "ifood.Recency.hist()"
      ],
      "execution_count": 88,
      "outputs": [
        {
          "output_type": "execute_result",
          "data": {
            "text/plain": [
              "<matplotlib.axes._subplots.AxesSubplot at 0x7f87eb195fd0>"
            ]
          },
          "metadata": {
            "tags": []
          },
          "execution_count": 88
        },
        {
          "output_type": "display_data",
          "data": {
            "image/png": "[encoded data removed]",
            "text/plain": [
              "<Figure size 432x288 with 1 Axes>"
            ]
          },
          "metadata": {
            "tags": [],
            "needs_background": "light"
          }
        }
      ]
    },
    {
      "cell_type": "markdown",
      "metadata": {
        "id": "00gzHcNHid20"
      },
      "source": [
        "### Entre 20 e 30 dias existem 236 ocorrências, que seriam 236 clientes que efetuaram a última nesse intervalo de tempo."
      ]
    },
    {
      "cell_type": "code",
      "metadata": {
        "colab": {
          "base_uri": "https://localhost:8080/"
        },
        "id": "ZjjAtf-HfV_o",
        "outputId": "c6bfbd59-57a1-4189-e1b2-6987d667cef5"
      },
      "source": [
        "ifood.Recency.value_counts(bins=10)"
      ],
      "execution_count": 89,
      "outputs": [
        {
          "output_type": "execute_result",
          "data": {
            "text/plain": [
              "(19.8, 29.7]    236\n",
              "(49.5, 59.4]    234\n",
              "(-0.1, 9.9]     233\n",
              "(79.2, 89.1]    229\n",
              "(69.3, 79.2]    224\n",
              "(9.9, 19.8]     223\n",
              "(89.1, 99.0]    218\n",
              "(39.6, 49.5]    216\n",
              "(29.7, 39.6]    214\n",
              "(59.4, 69.3]    213\n",
              "Name: Recency, dtype: int64"
            ]
          },
          "metadata": {
            "tags": []
          },
          "execution_count": 89
        }
      ]
    },
    {
      "cell_type": "code",
      "metadata": {
        "colab": {
          "base_uri": "https://localhost:8080/",
          "height": 394
        },
        "id": "vQmJKDF0txqJ",
        "outputId": "13bbea40-8bfe-40e5-b73b-22fef0a15e03"
      },
      "source": [
        "# plotting the distribution of the continous feature set\r\n",
        "sns.set(palette='muted', color_codes=True, style='white')\r\n",
        "fig, ax = plt.subplots(figsize=(12, 6))\r\n",
        "sns.despine(left=True)\r\n",
        "sns.distplot(ifood['Recency'], bins=30)\r\n",
        "plt.show()"
      ],
      "execution_count": 90,
      "outputs": [
        {
          "output_type": "display_data",
          "data": {
            "image/png": "[encoded data removed]",
            "text/plain": [
              "<Figure size 864x432 with 1 Axes>"
            ]
          },
          "metadata": {
            "tags": []
          }
        }
      ]
    },
    {
      "cell_type": "markdown",
      "metadata": {
        "id": "y-8h15Ek0YSC"
      },
      "source": [
        "### Clusters identificados no conjunto de dados Recency"
      ]
    },
    {
      "cell_type": "code",
      "metadata": {
        "id": "sM2-64PAuI8L"
      },
      "source": [
        "from sklearn.cluster import KMeans \r\n",
        "\r\n",
        "def number_of_cluster(coluna):\r\n",
        "  sse={}\r\n",
        "  df_cluster = ifood[[coluna]]\r\n",
        "  for k in range(1, 10):\r\n",
        "    kmeans = KMeans(n_clusters=k, max_iter=1000).fit(df_cluster)\r\n",
        "    df_cluster[\"clusters\"] = kmeans.labels_\r\n",
        "    sse[k] = kmeans.inertia_\r\n",
        "    \r\n",
        "  plt.figure(figsize=(10, 5))\r\n",
        "  plt.plot(list(sse.keys()), list(sse.values()))\r\n",
        "  plt.title(\"Number of Cluster by Column\\n\"+coluna)\r\n",
        "  plt.xlabel(\"Number of cluster\")\r\n",
        "  plt.show()"
      ],
      "execution_count": 91,
      "outputs": []
    },
    {
      "cell_type": "code",
      "metadata": {
        "id": "o8z8lVcr-5CM"
      },
      "source": [
        "def create_cluster(ifood,coluna, nova_coluna):\r\n",
        "  #building 3 clusters for Frequency and adding it to dataframe\r\n",
        "  kmeans = KMeans(n_clusters=3)\r\n",
        "  kmeans.fit(ifood[[coluna]])\r\n",
        "  ifood[nova_coluna] = kmeans.predict(ifood[[coluna]])\r\n",
        "  ifood = order_cluster(nova_coluna, coluna,ifood,False)"
      ],
      "execution_count": 92,
      "outputs": []
    },
    {
      "cell_type": "code",
      "metadata": {
        "colab": {
          "base_uri": "https://localhost:8080/",
          "height": 370
        },
        "id": "uJOCFHak6KXx",
        "outputId": "fec6265d-cea6-46cf-ada5-eadd85f2d5fa"
      },
      "source": [
        "number_of_cluster('Recency')"
      ],
      "execution_count": 93,
      "outputs": [
        {
          "output_type": "display_data",
          "data": {
            "image/png": "[encoded data removed]",
            "text/plain": [
              "<Figure size 720x360 with 1 Axes>"
            ]
          },
          "metadata": {
            "tags": []
          }
        }
      ]
    },
    {
      "cell_type": "markdown",
      "metadata": {
        "id": "rxJ1xrL31VOx"
      },
      "source": [
        "### Criando o cluster a partir da coluna Recency"
      ]
    },
    {
      "cell_type": "code",
      "metadata": {
        "id": "_ObrxaizAwsf"
      },
      "source": [
        "create_cluster(ifood,'Recency', 'RecencyCluster')"
      ],
      "execution_count": 94,
      "outputs": []
    },
    {
      "cell_type": "markdown",
      "metadata": {
        "id": "Wybc0F9m3a_K"
      },
      "source": [
        "### Três clusters foram identificados."
      ]
    },
    {
      "cell_type": "code",
      "metadata": {
        "colab": {
          "base_uri": "https://localhost:8080/",
          "height": 173
        },
        "id": "Ns6dKBUbDLK7",
        "outputId": "b20185a1-2f86-47d5-dfef-3b2e12ddbb86"
      },
      "source": [
        "ifood.groupby('RecencyCluster')['Recency'].describe()"
      ],
      "execution_count": 95,
      "outputs": [
        {
          "output_type": "execute_result",
          "data": {
            "text/html": [
              "<div>\n",
              "<style scoped>\n",
              "    .dataframe tbody tr th:only-of-type {\n",
              "        vertical-align: middle;\n",
              "    }\n",
              "\n",
              "    .dataframe tbody tr th {\n",
              "        vertical-align: top;\n",
              "    }\n",
              "\n",
              "    .dataframe thead th {\n",
              "        text-align: right;\n",
              "    }\n",
              "</style>\n",
              "<table border=\"1\" class=\"dataframe\">\n",
              "  <thead>\n",
              "    <tr style=\"text-align: right;\">\n",
              "      <th></th>\n",
              "      <th>count</th>\n",
              "      <th>mean</th>\n",
              "      <th>std</th>\n",
              "      <th>min</th>\n",
              "      <th>25%</th>\n",
              "      <th>50%</th>\n",
              "      <th>75%</th>\n",
              "      <th>max</th>\n",
              "    </tr>\n",
              "    <tr>\n",
              "      <th>RecencyCluster</th>\n",
              "      <th></th>\n",
              "      <th></th>\n",
              "      <th></th>\n",
              "      <th></th>\n",
              "      <th></th>\n",
              "      <th></th>\n",
              "      <th></th>\n",
              "      <th></th>\n",
              "    </tr>\n",
              "  </thead>\n",
              "  <tbody>\n",
              "    <tr>\n",
              "      <th>0</th>\n",
              "      <td>747.0</td>\n",
              "      <td>49.884873</td>\n",
              "      <td>9.570684</td>\n",
              "      <td>33.0</td>\n",
              "      <td>42.0</td>\n",
              "      <td>50.0</td>\n",
              "      <td>57.0</td>\n",
              "      <td>66.0</td>\n",
              "    </tr>\n",
              "    <tr>\n",
              "      <th>1</th>\n",
              "      <td>763.0</td>\n",
              "      <td>15.986894</td>\n",
              "      <td>9.783072</td>\n",
              "      <td>0.0</td>\n",
              "      <td>8.0</td>\n",
              "      <td>16.0</td>\n",
              "      <td>25.0</td>\n",
              "      <td>32.0</td>\n",
              "    </tr>\n",
              "    <tr>\n",
              "      <th>2</th>\n",
              "      <td>730.0</td>\n",
              "      <td>82.935616</td>\n",
              "      <td>9.373515</td>\n",
              "      <td>67.0</td>\n",
              "      <td>75.0</td>\n",
              "      <td>83.0</td>\n",
              "      <td>91.0</td>\n",
              "      <td>99.0</td>\n",
              "    </tr>\n",
              "  </tbody>\n",
              "</table>\n",
              "</div>"
            ],
            "text/plain": [
              "                count       mean       std   min   25%   50%   75%   max\n",
              "RecencyCluster                                                          \n",
              "0               747.0  49.884873  9.570684  33.0  42.0  50.0  57.0  66.0\n",
              "1               763.0  15.986894  9.783072   0.0   8.0  16.0  25.0  32.0\n",
              "2               730.0  82.935616  9.373515  67.0  75.0  83.0  91.0  99.0"
            ]
          },
          "metadata": {
            "tags": []
          },
          "execution_count": 95
        }
      ]
    },
    {
      "cell_type": "markdown",
      "metadata": {
        "id": "3d6OVLvoSgfY"
      },
      "source": [
        "### Frequency"
      ]
    },
    {
      "cell_type": "markdown",
      "metadata": {
        "id": "o5kBcVPlSlGP"
      },
      "source": [
        "### Quantidade de itens comprados pelo clientes efetuou no periodo.\r\n"
      ]
    },
    {
      "cell_type": "code",
      "metadata": {
        "colab": {
          "base_uri": "https://localhost:8080/",
          "height": 224
        },
        "id": "6moEmDM9SfTz",
        "outputId": "6bb6d03d-2de7-4af0-e080-cb9cdc2c3ab1"
      },
      "source": [
        "ifood.head()"
      ],
      "execution_count": 96,
      "outputs": [
        {
          "output_type": "execute_result",
          "data": {
            "text/html": [
              "<div>\n",
              "<style scoped>\n",
              "    .dataframe tbody tr th:only-of-type {\n",
              "        vertical-align: middle;\n",
              "    }\n",
              "\n",
              "    .dataframe tbody tr th {\n",
              "        vertical-align: top;\n",
              "    }\n",
              "\n",
              "    .dataframe thead th {\n",
              "        text-align: right;\n",
              "    }\n",
              "</style>\n",
              "<table border=\"1\" class=\"dataframe\">\n",
              "  <thead>\n",
              "    <tr style=\"text-align: right;\">\n",
              "      <th></th>\n",
              "      <th>ID</th>\n",
              "      <th>Year_Birth</th>\n",
              "      <th>Education</th>\n",
              "      <th>Marital_Status</th>\n",
              "      <th>Income</th>\n",
              "      <th>Kidhome</th>\n",
              "      <th>Teenhome</th>\n",
              "      <th>Dt_Customer</th>\n",
              "      <th>Recency</th>\n",
              "      <th>MntWines</th>\n",
              "      <th>MntFruits</th>\n",
              "      <th>MntMeatProducts</th>\n",
              "      <th>MntFishProducts</th>\n",
              "      <th>MntSweetProducts</th>\n",
              "      <th>MntGoldProds</th>\n",
              "      <th>NumDealsPurchases</th>\n",
              "      <th>NumWebPurchases</th>\n",
              "      <th>NumCatalogPurchases</th>\n",
              "      <th>NumStorePurchases</th>\n",
              "      <th>NumWebVisitsMonth</th>\n",
              "      <th>AcceptedCmp3</th>\n",
              "      <th>AcceptedCmp4</th>\n",
              "      <th>AcceptedCmp5</th>\n",
              "      <th>AcceptedCmp1</th>\n",
              "      <th>AcceptedCmp2</th>\n",
              "      <th>Complain</th>\n",
              "      <th>Z_CostContact</th>\n",
              "      <th>Z_Revenue</th>\n",
              "      <th>Response</th>\n",
              "      <th>Age</th>\n",
              "      <th>RecencyCluster</th>\n",
              "    </tr>\n",
              "  </thead>\n",
              "  <tbody>\n",
              "    <tr>\n",
              "      <th>0</th>\n",
              "      <td>5524</td>\n",
              "      <td>1957</td>\n",
              "      <td>Graduation</td>\n",
              "      <td>oneperson</td>\n",
              "      <td>58138.0</td>\n",
              "      <td>0</td>\n",
              "      <td>0</td>\n",
              "      <td>2012-09-04</td>\n",
              "      <td>58</td>\n",
              "      <td>635</td>\n",
              "      <td>88</td>\n",
              "      <td>546</td>\n",
              "      <td>172</td>\n",
              "      <td>88</td>\n",
              "      <td>88</td>\n",
              "      <td>3</td>\n",
              "      <td>8</td>\n",
              "      <td>10</td>\n",
              "      <td>4</td>\n",
              "      <td>7</td>\n",
              "      <td>0</td>\n",
              "      <td>0</td>\n",
              "      <td>0</td>\n",
              "      <td>0</td>\n",
              "      <td>0</td>\n",
              "      <td>0</td>\n",
              "      <td>3</td>\n",
              "      <td>11</td>\n",
              "      <td>1</td>\n",
              "      <td>64</td>\n",
              "      <td>0</td>\n",
              "    </tr>\n",
              "    <tr>\n",
              "      <th>1</th>\n",
              "      <td>2174</td>\n",
              "      <td>1954</td>\n",
              "      <td>Graduation</td>\n",
              "      <td>oneperson</td>\n",
              "      <td>46344.0</td>\n",
              "      <td>1</td>\n",
              "      <td>1</td>\n",
              "      <td>2014-03-08</td>\n",
              "      <td>38</td>\n",
              "      <td>11</td>\n",
              "      <td>1</td>\n",
              "      <td>6</td>\n",
              "      <td>2</td>\n",
              "      <td>1</td>\n",
              "      <td>6</td>\n",
              "      <td>2</td>\n",
              "      <td>1</td>\n",
              "      <td>1</td>\n",
              "      <td>2</td>\n",
              "      <td>5</td>\n",
              "      <td>0</td>\n",
              "      <td>0</td>\n",
              "      <td>0</td>\n",
              "      <td>0</td>\n",
              "      <td>0</td>\n",
              "      <td>0</td>\n",
              "      <td>3</td>\n",
              "      <td>11</td>\n",
              "      <td>0</td>\n",
              "      <td>67</td>\n",
              "      <td>0</td>\n",
              "    </tr>\n",
              "    <tr>\n",
              "      <th>2</th>\n",
              "      <td>4141</td>\n",
              "      <td>1965</td>\n",
              "      <td>Graduation</td>\n",
              "      <td>couple</td>\n",
              "      <td>71613.0</td>\n",
              "      <td>0</td>\n",
              "      <td>0</td>\n",
              "      <td>2013-08-21</td>\n",
              "      <td>26</td>\n",
              "      <td>426</td>\n",
              "      <td>49</td>\n",
              "      <td>127</td>\n",
              "      <td>111</td>\n",
              "      <td>21</td>\n",
              "      <td>42</td>\n",
              "      <td>1</td>\n",
              "      <td>8</td>\n",
              "      <td>2</td>\n",
              "      <td>10</td>\n",
              "      <td>4</td>\n",
              "      <td>0</td>\n",
              "      <td>0</td>\n",
              "      <td>0</td>\n",
              "      <td>0</td>\n",
              "      <td>0</td>\n",
              "      <td>0</td>\n",
              "      <td>3</td>\n",
              "      <td>11</td>\n",
              "      <td>0</td>\n",
              "      <td>56</td>\n",
              "      <td>1</td>\n",
              "    </tr>\n",
              "    <tr>\n",
              "      <th>3</th>\n",
              "      <td>6182</td>\n",
              "      <td>1984</td>\n",
              "      <td>Graduation</td>\n",
              "      <td>couple</td>\n",
              "      <td>26646.0</td>\n",
              "      <td>1</td>\n",
              "      <td>0</td>\n",
              "      <td>2014-02-10</td>\n",
              "      <td>26</td>\n",
              "      <td>11</td>\n",
              "      <td>4</td>\n",
              "      <td>20</td>\n",
              "      <td>10</td>\n",
              "      <td>3</td>\n",
              "      <td>5</td>\n",
              "      <td>2</td>\n",
              "      <td>2</td>\n",
              "      <td>0</td>\n",
              "      <td>4</td>\n",
              "      <td>6</td>\n",
              "      <td>0</td>\n",
              "      <td>0</td>\n",
              "      <td>0</td>\n",
              "      <td>0</td>\n",
              "      <td>0</td>\n",
              "      <td>0</td>\n",
              "      <td>3</td>\n",
              "      <td>11</td>\n",
              "      <td>0</td>\n",
              "      <td>37</td>\n",
              "      <td>1</td>\n",
              "    </tr>\n",
              "    <tr>\n",
              "      <th>4</th>\n",
              "      <td>5324</td>\n",
              "      <td>1981</td>\n",
              "      <td>PhD</td>\n",
              "      <td>couple</td>\n",
              "      <td>58293.0</td>\n",
              "      <td>1</td>\n",
              "      <td>0</td>\n",
              "      <td>2014-01-19</td>\n",
              "      <td>94</td>\n",
              "      <td>173</td>\n",
              "      <td>43</td>\n",
              "      <td>118</td>\n",
              "      <td>46</td>\n",
              "      <td>27</td>\n",
              "      <td>15</td>\n",
              "      <td>5</td>\n",
              "      <td>5</td>\n",
              "      <td>3</td>\n",
              "      <td>6</td>\n",
              "      <td>5</td>\n",
              "      <td>0</td>\n",
              "      <td>0</td>\n",
              "      <td>0</td>\n",
              "      <td>0</td>\n",
              "      <td>0</td>\n",
              "      <td>0</td>\n",
              "      <td>3</td>\n",
              "      <td>11</td>\n",
              "      <td>0</td>\n",
              "      <td>40</td>\n",
              "      <td>2</td>\n",
              "    </tr>\n",
              "  </tbody>\n",
              "</table>\n",
              "</div>"
            ],
            "text/plain": [
              "     ID  Year_Birth   Education Marital_Status   Income  Kidhome  Teenhome  \\\n",
              "0  5524        1957  Graduation      oneperson  58138.0        0         0   \n",
              "1  2174        1954  Graduation      oneperson  46344.0        1         1   \n",
              "2  4141        1965  Graduation         couple  71613.0        0         0   \n",
              "3  6182        1984  Graduation         couple  26646.0        1         0   \n",
              "4  5324        1981         PhD         couple  58293.0        1         0   \n",
              "\n",
              "  Dt_Customer  Recency  MntWines  MntFruits  MntMeatProducts  MntFishProducts  \\\n",
              "0  2012-09-04       58       635         88              546              172   \n",
              "1  2014-03-08       38        11          1                6                2   \n",
              "2  2013-08-21       26       426         49              127              111   \n",
              "3  2014-02-10       26        11          4               20               10   \n",
              "4  2014-01-19       94       173         43              118               46   \n",
              "\n",
              "   MntSweetProducts  MntGoldProds  NumDealsPurchases  NumWebPurchases  \\\n",
              "0                88            88                  3                8   \n",
              "1                 1             6                  2                1   \n",
              "2                21            42                  1                8   \n",
              "3                 3             5                  2                2   \n",
              "4                27            15                  5                5   \n",
              "\n",
              "   NumCatalogPurchases  NumStorePurchases  NumWebVisitsMonth  AcceptedCmp3  \\\n",
              "0                   10                  4                  7             0   \n",
              "1                    1                  2                  5             0   \n",
              "2                    2                 10                  4             0   \n",
              "3                    0                  4                  6             0   \n",
              "4                    3                  6                  5             0   \n",
              "\n",
              "   AcceptedCmp4  AcceptedCmp5  AcceptedCmp1  AcceptedCmp2  Complain  \\\n",
              "0             0             0             0             0         0   \n",
              "1             0             0             0             0         0   \n",
              "2             0             0             0             0         0   \n",
              "3             0             0             0             0         0   \n",
              "4             0             0             0             0         0   \n",
              "\n",
              "   Z_CostContact  Z_Revenue  Response  Age  RecencyCluster  \n",
              "0              3         11         1   64               0  \n",
              "1              3         11         0   67               0  \n",
              "2              3         11         0   56               1  \n",
              "3              3         11         0   37               1  \n",
              "4              3         11         0   40               2  "
            ]
          },
          "metadata": {
            "tags": []
          },
          "execution_count": 96
        }
      ]
    },
    {
      "cell_type": "markdown",
      "metadata": {
        "id": "IzSKzok8VKGD"
      },
      "source": [
        "### Filtrar as colunas que iniciam com os caracteres ID e as colunas que terminam em Purchases"
      ]
    },
    {
      "cell_type": "code",
      "metadata": {
        "id": "pRpGcKV8VcUY"
      },
      "source": [
        "frequency = ifood.loc[:,(ifood.columns.str.startswith(\"ID\")) | (ifood.columns.str.endswith(\"Purchases\"))]"
      ],
      "execution_count": 97,
      "outputs": []
    },
    {
      "cell_type": "code",
      "metadata": {
        "colab": {
          "base_uri": "https://localhost:8080/",
          "height": 204
        },
        "id": "9u7RehagVDQM",
        "outputId": "650a5bd3-066b-4aa9-903f-b3c1aa007fd9"
      },
      "source": [
        "frequency.head()"
      ],
      "execution_count": 98,
      "outputs": [
        {
          "output_type": "execute_result",
          "data": {
            "text/html": [
              "<div>\n",
              "<style scoped>\n",
              "    .dataframe tbody tr th:only-of-type {\n",
              "        vertical-align: middle;\n",
              "    }\n",
              "\n",
              "    .dataframe tbody tr th {\n",
              "        vertical-align: top;\n",
              "    }\n",
              "\n",
              "    .dataframe thead th {\n",
              "        text-align: right;\n",
              "    }\n",
              "</style>\n",
              "<table border=\"1\" class=\"dataframe\">\n",
              "  <thead>\n",
              "    <tr style=\"text-align: right;\">\n",
              "      <th></th>\n",
              "      <th>ID</th>\n",
              "      <th>NumDealsPurchases</th>\n",
              "      <th>NumWebPurchases</th>\n",
              "      <th>NumCatalogPurchases</th>\n",
              "      <th>NumStorePurchases</th>\n",
              "    </tr>\n",
              "  </thead>\n",
              "  <tbody>\n",
              "    <tr>\n",
              "      <th>0</th>\n",
              "      <td>5524</td>\n",
              "      <td>3</td>\n",
              "      <td>8</td>\n",
              "      <td>10</td>\n",
              "      <td>4</td>\n",
              "    </tr>\n",
              "    <tr>\n",
              "      <th>1</th>\n",
              "      <td>2174</td>\n",
              "      <td>2</td>\n",
              "      <td>1</td>\n",
              "      <td>1</td>\n",
              "      <td>2</td>\n",
              "    </tr>\n",
              "    <tr>\n",
              "      <th>2</th>\n",
              "      <td>4141</td>\n",
              "      <td>1</td>\n",
              "      <td>8</td>\n",
              "      <td>2</td>\n",
              "      <td>10</td>\n",
              "    </tr>\n",
              "    <tr>\n",
              "      <th>3</th>\n",
              "      <td>6182</td>\n",
              "      <td>2</td>\n",
              "      <td>2</td>\n",
              "      <td>0</td>\n",
              "      <td>4</td>\n",
              "    </tr>\n",
              "    <tr>\n",
              "      <th>4</th>\n",
              "      <td>5324</td>\n",
              "      <td>5</td>\n",
              "      <td>5</td>\n",
              "      <td>3</td>\n",
              "      <td>6</td>\n",
              "    </tr>\n",
              "  </tbody>\n",
              "</table>\n",
              "</div>"
            ],
            "text/plain": [
              "     ID  NumDealsPurchases  NumWebPurchases  NumCatalogPurchases  \\\n",
              "0  5524                  3                8                   10   \n",
              "1  2174                  2                1                    1   \n",
              "2  4141                  1                8                    2   \n",
              "3  6182                  2                2                    0   \n",
              "4  5324                  5                5                    3   \n",
              "\n",
              "   NumStorePurchases  \n",
              "0                  4  \n",
              "1                  2  \n",
              "2                 10  \n",
              "3                  4  \n",
              "4                  6  "
            ]
          },
          "metadata": {
            "tags": []
          },
          "execution_count": 98
        }
      ]
    },
    {
      "cell_type": "markdown",
      "metadata": {
        "id": "u1UMRUW94uYT"
      },
      "source": [
        "### A coluna Frequency será o valor total de compras efetuadas pelo cliente."
      ]
    },
    {
      "cell_type": "code",
      "metadata": {
        "id": "bY6qsQCbVyp5"
      },
      "source": [
        "ifood['Frequency'] = frequency.loc[:,(frequency.columns.str.endswith(\"Purchases\"))].sum(axis=1)"
      ],
      "execution_count": 99,
      "outputs": []
    },
    {
      "cell_type": "code",
      "metadata": {
        "colab": {
          "base_uri": "https://localhost:8080/",
          "height": 224
        },
        "id": "_LOqtTbQWUQX",
        "outputId": "7fb7a966-8e15-4b59-bcbe-dc9214fa0743"
      },
      "source": [
        "ifood.head()"
      ],
      "execution_count": 100,
      "outputs": [
        {
          "output_type": "execute_result",
          "data": {
            "text/html": [
              "<div>\n",
              "<style scoped>\n",
              "    .dataframe tbody tr th:only-of-type {\n",
              "        vertical-align: middle;\n",
              "    }\n",
              "\n",
              "    .dataframe tbody tr th {\n",
              "        vertical-align: top;\n",
              "    }\n",
              "\n",
              "    .dataframe thead th {\n",
              "        text-align: right;\n",
              "    }\n",
              "</style>\n",
              "<table border=\"1\" class=\"dataframe\">\n",
              "  <thead>\n",
              "    <tr style=\"text-align: right;\">\n",
              "      <th></th>\n",
              "      <th>ID</th>\n",
              "      <th>Year_Birth</th>\n",
              "      <th>Education</th>\n",
              "      <th>Marital_Status</th>\n",
              "      <th>Income</th>\n",
              "      <th>Kidhome</th>\n",
              "      <th>Teenhome</th>\n",
              "      <th>Dt_Customer</th>\n",
              "      <th>Recency</th>\n",
              "      <th>MntWines</th>\n",
              "      <th>MntFruits</th>\n",
              "      <th>MntMeatProducts</th>\n",
              "      <th>MntFishProducts</th>\n",
              "      <th>MntSweetProducts</th>\n",
              "      <th>MntGoldProds</th>\n",
              "      <th>NumDealsPurchases</th>\n",
              "      <th>NumWebPurchases</th>\n",
              "      <th>NumCatalogPurchases</th>\n",
              "      <th>NumStorePurchases</th>\n",
              "      <th>NumWebVisitsMonth</th>\n",
              "      <th>AcceptedCmp3</th>\n",
              "      <th>AcceptedCmp4</th>\n",
              "      <th>AcceptedCmp5</th>\n",
              "      <th>AcceptedCmp1</th>\n",
              "      <th>AcceptedCmp2</th>\n",
              "      <th>Complain</th>\n",
              "      <th>Z_CostContact</th>\n",
              "      <th>Z_Revenue</th>\n",
              "      <th>Response</th>\n",
              "      <th>Age</th>\n",
              "      <th>RecencyCluster</th>\n",
              "      <th>Frequency</th>\n",
              "    </tr>\n",
              "  </thead>\n",
              "  <tbody>\n",
              "    <tr>\n",
              "      <th>0</th>\n",
              "      <td>5524</td>\n",
              "      <td>1957</td>\n",
              "      <td>Graduation</td>\n",
              "      <td>oneperson</td>\n",
              "      <td>58138.0</td>\n",
              "      <td>0</td>\n",
              "      <td>0</td>\n",
              "      <td>2012-09-04</td>\n",
              "      <td>58</td>\n",
              "      <td>635</td>\n",
              "      <td>88</td>\n",
              "      <td>546</td>\n",
              "      <td>172</td>\n",
              "      <td>88</td>\n",
              "      <td>88</td>\n",
              "      <td>3</td>\n",
              "      <td>8</td>\n",
              "      <td>10</td>\n",
              "      <td>4</td>\n",
              "      <td>7</td>\n",
              "      <td>0</td>\n",
              "      <td>0</td>\n",
              "      <td>0</td>\n",
              "      <td>0</td>\n",
              "      <td>0</td>\n",
              "      <td>0</td>\n",
              "      <td>3</td>\n",
              "      <td>11</td>\n",
              "      <td>1</td>\n",
              "      <td>64</td>\n",
              "      <td>0</td>\n",
              "      <td>25</td>\n",
              "    </tr>\n",
              "    <tr>\n",
              "      <th>1</th>\n",
              "      <td>2174</td>\n",
              "      <td>1954</td>\n",
              "      <td>Graduation</td>\n",
              "      <td>oneperson</td>\n",
              "      <td>46344.0</td>\n",
              "      <td>1</td>\n",
              "      <td>1</td>\n",
              "      <td>2014-03-08</td>\n",
              "      <td>38</td>\n",
              "      <td>11</td>\n",
              "      <td>1</td>\n",
              "      <td>6</td>\n",
              "      <td>2</td>\n",
              "      <td>1</td>\n",
              "      <td>6</td>\n",
              "      <td>2</td>\n",
              "      <td>1</td>\n",
              "      <td>1</td>\n",
              "      <td>2</td>\n",
              "      <td>5</td>\n",
              "      <td>0</td>\n",
              "      <td>0</td>\n",
              "      <td>0</td>\n",
              "      <td>0</td>\n",
              "      <td>0</td>\n",
              "      <td>0</td>\n",
              "      <td>3</td>\n",
              "      <td>11</td>\n",
              "      <td>0</td>\n",
              "      <td>67</td>\n",
              "      <td>0</td>\n",
              "      <td>6</td>\n",
              "    </tr>\n",
              "    <tr>\n",
              "      <th>2</th>\n",
              "      <td>4141</td>\n",
              "      <td>1965</td>\n",
              "      <td>Graduation</td>\n",
              "      <td>couple</td>\n",
              "      <td>71613.0</td>\n",
              "      <td>0</td>\n",
              "      <td>0</td>\n",
              "      <td>2013-08-21</td>\n",
              "      <td>26</td>\n",
              "      <td>426</td>\n",
              "      <td>49</td>\n",
              "      <td>127</td>\n",
              "      <td>111</td>\n",
              "      <td>21</td>\n",
              "      <td>42</td>\n",
              "      <td>1</td>\n",
              "      <td>8</td>\n",
              "      <td>2</td>\n",
              "      <td>10</td>\n",
              "      <td>4</td>\n",
              "      <td>0</td>\n",
              "      <td>0</td>\n",
              "      <td>0</td>\n",
              "      <td>0</td>\n",
              "      <td>0</td>\n",
              "      <td>0</td>\n",
              "      <td>3</td>\n",
              "      <td>11</td>\n",
              "      <td>0</td>\n",
              "      <td>56</td>\n",
              "      <td>1</td>\n",
              "      <td>21</td>\n",
              "    </tr>\n",
              "    <tr>\n",
              "      <th>3</th>\n",
              "      <td>6182</td>\n",
              "      <td>1984</td>\n",
              "      <td>Graduation</td>\n",
              "      <td>couple</td>\n",
              "      <td>26646.0</td>\n",
              "      <td>1</td>\n",
              "      <td>0</td>\n",
              "      <td>2014-02-10</td>\n",
              "      <td>26</td>\n",
              "      <td>11</td>\n",
              "      <td>4</td>\n",
              "      <td>20</td>\n",
              "      <td>10</td>\n",
              "      <td>3</td>\n",
              "      <td>5</td>\n",
              "      <td>2</td>\n",
              "      <td>2</td>\n",
              "      <td>0</td>\n",
              "      <td>4</td>\n",
              "      <td>6</td>\n",
              "      <td>0</td>\n",
              "      <td>0</td>\n",
              "      <td>0</td>\n",
              "      <td>0</td>\n",
              "      <td>0</td>\n",
              "      <td>0</td>\n",
              "      <td>3</td>\n",
              "      <td>11</td>\n",
              "      <td>0</td>\n",
              "      <td>37</td>\n",
              "      <td>1</td>\n",
              "      <td>8</td>\n",
              "    </tr>\n",
              "    <tr>\n",
              "      <th>4</th>\n",
              "      <td>5324</td>\n",
              "      <td>1981</td>\n",
              "      <td>PhD</td>\n",
              "      <td>couple</td>\n",
              "      <td>58293.0</td>\n",
              "      <td>1</td>\n",
              "      <td>0</td>\n",
              "      <td>2014-01-19</td>\n",
              "      <td>94</td>\n",
              "      <td>173</td>\n",
              "      <td>43</td>\n",
              "      <td>118</td>\n",
              "      <td>46</td>\n",
              "      <td>27</td>\n",
              "      <td>15</td>\n",
              "      <td>5</td>\n",
              "      <td>5</td>\n",
              "      <td>3</td>\n",
              "      <td>6</td>\n",
              "      <td>5</td>\n",
              "      <td>0</td>\n",
              "      <td>0</td>\n",
              "      <td>0</td>\n",
              "      <td>0</td>\n",
              "      <td>0</td>\n",
              "      <td>0</td>\n",
              "      <td>3</td>\n",
              "      <td>11</td>\n",
              "      <td>0</td>\n",
              "      <td>40</td>\n",
              "      <td>2</td>\n",
              "      <td>19</td>\n",
              "    </tr>\n",
              "  </tbody>\n",
              "</table>\n",
              "</div>"
            ],
            "text/plain": [
              "     ID  Year_Birth   Education Marital_Status   Income  Kidhome  Teenhome  \\\n",
              "0  5524        1957  Graduation      oneperson  58138.0        0         0   \n",
              "1  2174        1954  Graduation      oneperson  46344.0        1         1   \n",
              "2  4141        1965  Graduation         couple  71613.0        0         0   \n",
              "3  6182        1984  Graduation         couple  26646.0        1         0   \n",
              "4  5324        1981         PhD         couple  58293.0        1         0   \n",
              "\n",
              "  Dt_Customer  Recency  MntWines  MntFruits  MntMeatProducts  MntFishProducts  \\\n",
              "0  2012-09-04       58       635         88              546              172   \n",
              "1  2014-03-08       38        11          1                6                2   \n",
              "2  2013-08-21       26       426         49              127              111   \n",
              "3  2014-02-10       26        11          4               20               10   \n",
              "4  2014-01-19       94       173         43              118               46   \n",
              "\n",
              "   MntSweetProducts  MntGoldProds  NumDealsPurchases  NumWebPurchases  \\\n",
              "0                88            88                  3                8   \n",
              "1                 1             6                  2                1   \n",
              "2                21            42                  1                8   \n",
              "3                 3             5                  2                2   \n",
              "4                27            15                  5                5   \n",
              "\n",
              "   NumCatalogPurchases  NumStorePurchases  NumWebVisitsMonth  AcceptedCmp3  \\\n",
              "0                   10                  4                  7             0   \n",
              "1                    1                  2                  5             0   \n",
              "2                    2                 10                  4             0   \n",
              "3                    0                  4                  6             0   \n",
              "4                    3                  6                  5             0   \n",
              "\n",
              "   AcceptedCmp4  AcceptedCmp5  AcceptedCmp1  AcceptedCmp2  Complain  \\\n",
              "0             0             0             0             0         0   \n",
              "1             0             0             0             0         0   \n",
              "2             0             0             0             0         0   \n",
              "3             0             0             0             0         0   \n",
              "4             0             0             0             0         0   \n",
              "\n",
              "   Z_CostContact  Z_Revenue  Response  Age  RecencyCluster  Frequency  \n",
              "0              3         11         1   64               0         25  \n",
              "1              3         11         0   67               0          6  \n",
              "2              3         11         0   56               1         21  \n",
              "3              3         11         0   37               1          8  \n",
              "4              3         11         0   40               2         19  "
            ]
          },
          "metadata": {
            "tags": []
          },
          "execution_count": 100
        }
      ]
    },
    {
      "cell_type": "code",
      "metadata": {
        "id": "yWZgQydSWg6b",
        "colab": {
          "base_uri": "https://localhost:8080/",
          "height": 370
        },
        "outputId": "53f9d3e7-94d2-42ec-d18b-74d221626522"
      },
      "source": [
        "number_of_cluster('Frequency')"
      ],
      "execution_count": 101,
      "outputs": [
        {
          "output_type": "display_data",
          "data": {
            "image/png": "[encoded data removed]",
            "text/plain": [
              "<Figure size 720x360 with 1 Axes>"
            ]
          },
          "metadata": {
            "tags": []
          }
        }
      ]
    },
    {
      "cell_type": "code",
      "metadata": {
        "id": "6nlZnCvBBQ3f"
      },
      "source": [
        "create_cluster(ifood, 'Frequency', 'FrequencyCluster')"
      ],
      "execution_count": 102,
      "outputs": []
    },
    {
      "cell_type": "code",
      "metadata": {
        "colab": {
          "base_uri": "https://localhost:8080/",
          "height": 173
        },
        "id": "fGopPw_l7iJM",
        "outputId": "c144593c-5287-4979-c7dd-202b96b7184d"
      },
      "source": [
        "ifood.groupby('FrequencyCluster')['Frequency'].describe()"
      ],
      "execution_count": 103,
      "outputs": [
        {
          "output_type": "execute_result",
          "data": {
            "text/html": [
              "<div>\n",
              "<style scoped>\n",
              "    .dataframe tbody tr th:only-of-type {\n",
              "        vertical-align: middle;\n",
              "    }\n",
              "\n",
              "    .dataframe tbody tr th {\n",
              "        vertical-align: top;\n",
              "    }\n",
              "\n",
              "    .dataframe thead th {\n",
              "        text-align: right;\n",
              "    }\n",
              "</style>\n",
              "<table border=\"1\" class=\"dataframe\">\n",
              "  <thead>\n",
              "    <tr style=\"text-align: right;\">\n",
              "      <th></th>\n",
              "      <th>count</th>\n",
              "      <th>mean</th>\n",
              "      <th>std</th>\n",
              "      <th>min</th>\n",
              "      <th>25%</th>\n",
              "      <th>50%</th>\n",
              "      <th>75%</th>\n",
              "      <th>max</th>\n",
              "    </tr>\n",
              "    <tr>\n",
              "      <th>FrequencyCluster</th>\n",
              "      <th></th>\n",
              "      <th></th>\n",
              "      <th></th>\n",
              "      <th></th>\n",
              "      <th></th>\n",
              "      <th></th>\n",
              "      <th></th>\n",
              "      <th></th>\n",
              "    </tr>\n",
              "  </thead>\n",
              "  <tbody>\n",
              "    <tr>\n",
              "      <th>0</th>\n",
              "      <td>734.0</td>\n",
              "      <td>16.486376</td>\n",
              "      <td>2.472596</td>\n",
              "      <td>12.0</td>\n",
              "      <td>15.0</td>\n",
              "      <td>17.0</td>\n",
              "      <td>19.0</td>\n",
              "      <td>20.0</td>\n",
              "    </tr>\n",
              "    <tr>\n",
              "      <th>1</th>\n",
              "      <td>607.0</td>\n",
              "      <td>24.637562</td>\n",
              "      <td>3.274127</td>\n",
              "      <td>21.0</td>\n",
              "      <td>22.0</td>\n",
              "      <td>24.0</td>\n",
              "      <td>26.0</td>\n",
              "      <td>44.0</td>\n",
              "    </tr>\n",
              "    <tr>\n",
              "      <th>2</th>\n",
              "      <td>899.0</td>\n",
              "      <td>6.935484</td>\n",
              "      <td>2.253495</td>\n",
              "      <td>0.0</td>\n",
              "      <td>5.0</td>\n",
              "      <td>7.0</td>\n",
              "      <td>9.0</td>\n",
              "      <td>11.0</td>\n",
              "    </tr>\n",
              "  </tbody>\n",
              "</table>\n",
              "</div>"
            ],
            "text/plain": [
              "                  count       mean       std   min   25%   50%   75%   max\n",
              "FrequencyCluster                                                          \n",
              "0                 734.0  16.486376  2.472596  12.0  15.0  17.0  19.0  20.0\n",
              "1                 607.0  24.637562  3.274127  21.0  22.0  24.0  26.0  44.0\n",
              "2                 899.0   6.935484  2.253495   0.0   5.0   7.0   9.0  11.0"
            ]
          },
          "metadata": {
            "tags": []
          },
          "execution_count": 103
        }
      ]
    },
    {
      "cell_type": "markdown",
      "metadata": {
        "id": "RjibANXg2-Zq"
      },
      "source": [
        "### Monetary"
      ]
    },
    {
      "cell_type": "markdown",
      "metadata": {
        "id": "Y4-Qx8H8TrW9"
      },
      "source": [
        "### Filtrar as colunas que iniciam com os caracteres ID e Mnt, seguidos de zero ou mais caracteres"
      ]
    },
    {
      "cell_type": "code",
      "metadata": {
        "id": "ysufAHh5Qxp4"
      },
      "source": [
        "monetary = ifood.loc[:,(ifood.columns.str.startswith(\"ID\")) | (ifood.columns.str.startswith(\"Mnt\"))]"
      ],
      "execution_count": 104,
      "outputs": []
    },
    {
      "cell_type": "markdown",
      "metadata": {
        "id": "DSeDCoC6d0aw"
      },
      "source": [
        "### Soma de todas compras (Dolar) efetuadas nos ultimos 2 anos"
      ]
    },
    {
      "cell_type": "code",
      "metadata": {
        "id": "mZH4d4X8VZfF"
      },
      "source": [
        "ifood['Monetary'] = monetary.loc[:,(monetary.columns.str.startswith(\"Mnt\"))].sum(axis=1)"
      ],
      "execution_count": 105,
      "outputs": []
    },
    {
      "cell_type": "code",
      "metadata": {
        "colab": {
          "base_uri": "https://localhost:8080/",
          "height": 224
        },
        "id": "SOCHdSd9UE2G",
        "outputId": "d9a2a55d-28cc-4165-b794-24c40d8b370a"
      },
      "source": [
        "ifood.head()"
      ],
      "execution_count": 106,
      "outputs": [
        {
          "output_type": "execute_result",
          "data": {
            "text/html": [
              "<div>\n",
              "<style scoped>\n",
              "    .dataframe tbody tr th:only-of-type {\n",
              "        vertical-align: middle;\n",
              "    }\n",
              "\n",
              "    .dataframe tbody tr th {\n",
              "        vertical-align: top;\n",
              "    }\n",
              "\n",
              "    .dataframe thead th {\n",
              "        text-align: right;\n",
              "    }\n",
              "</style>\n",
              "<table border=\"1\" class=\"dataframe\">\n",
              "  <thead>\n",
              "    <tr style=\"text-align: right;\">\n",
              "      <th></th>\n",
              "      <th>ID</th>\n",
              "      <th>Year_Birth</th>\n",
              "      <th>Education</th>\n",
              "      <th>Marital_Status</th>\n",
              "      <th>Income</th>\n",
              "      <th>Kidhome</th>\n",
              "      <th>Teenhome</th>\n",
              "      <th>Dt_Customer</th>\n",
              "      <th>Recency</th>\n",
              "      <th>MntWines</th>\n",
              "      <th>MntFruits</th>\n",
              "      <th>MntMeatProducts</th>\n",
              "      <th>MntFishProducts</th>\n",
              "      <th>MntSweetProducts</th>\n",
              "      <th>MntGoldProds</th>\n",
              "      <th>NumDealsPurchases</th>\n",
              "      <th>NumWebPurchases</th>\n",
              "      <th>NumCatalogPurchases</th>\n",
              "      <th>NumStorePurchases</th>\n",
              "      <th>NumWebVisitsMonth</th>\n",
              "      <th>AcceptedCmp3</th>\n",
              "      <th>AcceptedCmp4</th>\n",
              "      <th>AcceptedCmp5</th>\n",
              "      <th>AcceptedCmp1</th>\n",
              "      <th>AcceptedCmp2</th>\n",
              "      <th>Complain</th>\n",
              "      <th>Z_CostContact</th>\n",
              "      <th>Z_Revenue</th>\n",
              "      <th>Response</th>\n",
              "      <th>Age</th>\n",
              "      <th>RecencyCluster</th>\n",
              "      <th>Frequency</th>\n",
              "      <th>FrequencyCluster</th>\n",
              "      <th>Monetary</th>\n",
              "    </tr>\n",
              "  </thead>\n",
              "  <tbody>\n",
              "    <tr>\n",
              "      <th>0</th>\n",
              "      <td>5524</td>\n",
              "      <td>1957</td>\n",
              "      <td>Graduation</td>\n",
              "      <td>oneperson</td>\n",
              "      <td>58138.0</td>\n",
              "      <td>0</td>\n",
              "      <td>0</td>\n",
              "      <td>2012-09-04</td>\n",
              "      <td>58</td>\n",
              "      <td>635</td>\n",
              "      <td>88</td>\n",
              "      <td>546</td>\n",
              "      <td>172</td>\n",
              "      <td>88</td>\n",
              "      <td>88</td>\n",
              "      <td>3</td>\n",
              "      <td>8</td>\n",
              "      <td>10</td>\n",
              "      <td>4</td>\n",
              "      <td>7</td>\n",
              "      <td>0</td>\n",
              "      <td>0</td>\n",
              "      <td>0</td>\n",
              "      <td>0</td>\n",
              "      <td>0</td>\n",
              "      <td>0</td>\n",
              "      <td>3</td>\n",
              "      <td>11</td>\n",
              "      <td>1</td>\n",
              "      <td>64</td>\n",
              "      <td>0</td>\n",
              "      <td>25</td>\n",
              "      <td>1</td>\n",
              "      <td>1617</td>\n",
              "    </tr>\n",
              "    <tr>\n",
              "      <th>1</th>\n",
              "      <td>2174</td>\n",
              "      <td>1954</td>\n",
              "      <td>Graduation</td>\n",
              "      <td>oneperson</td>\n",
              "      <td>46344.0</td>\n",
              "      <td>1</td>\n",
              "      <td>1</td>\n",
              "      <td>2014-03-08</td>\n",
              "      <td>38</td>\n",
              "      <td>11</td>\n",
              "      <td>1</td>\n",
              "      <td>6</td>\n",
              "      <td>2</td>\n",
              "      <td>1</td>\n",
              "      <td>6</td>\n",
              "      <td>2</td>\n",
              "      <td>1</td>\n",
              "      <td>1</td>\n",
              "      <td>2</td>\n",
              "      <td>5</td>\n",
              "      <td>0</td>\n",
              "      <td>0</td>\n",
              "      <td>0</td>\n",
              "      <td>0</td>\n",
              "      <td>0</td>\n",
              "      <td>0</td>\n",
              "      <td>3</td>\n",
              "      <td>11</td>\n",
              "      <td>0</td>\n",
              "      <td>67</td>\n",
              "      <td>0</td>\n",
              "      <td>6</td>\n",
              "      <td>2</td>\n",
              "      <td>27</td>\n",
              "    </tr>\n",
              "    <tr>\n",
              "      <th>2</th>\n",
              "      <td>4141</td>\n",
              "      <td>1965</td>\n",
              "      <td>Graduation</td>\n",
              "      <td>couple</td>\n",
              "      <td>71613.0</td>\n",
              "      <td>0</td>\n",
              "      <td>0</td>\n",
              "      <td>2013-08-21</td>\n",
              "      <td>26</td>\n",
              "      <td>426</td>\n",
              "      <td>49</td>\n",
              "      <td>127</td>\n",
              "      <td>111</td>\n",
              "      <td>21</td>\n",
              "      <td>42</td>\n",
              "      <td>1</td>\n",
              "      <td>8</td>\n",
              "      <td>2</td>\n",
              "      <td>10</td>\n",
              "      <td>4</td>\n",
              "      <td>0</td>\n",
              "      <td>0</td>\n",
              "      <td>0</td>\n",
              "      <td>0</td>\n",
              "      <td>0</td>\n",
              "      <td>0</td>\n",
              "      <td>3</td>\n",
              "      <td>11</td>\n",
              "      <td>0</td>\n",
              "      <td>56</td>\n",
              "      <td>1</td>\n",
              "      <td>21</td>\n",
              "      <td>1</td>\n",
              "      <td>776</td>\n",
              "    </tr>\n",
              "    <tr>\n",
              "      <th>3</th>\n",
              "      <td>6182</td>\n",
              "      <td>1984</td>\n",
              "      <td>Graduation</td>\n",
              "      <td>couple</td>\n",
              "      <td>26646.0</td>\n",
              "      <td>1</td>\n",
              "      <td>0</td>\n",
              "      <td>2014-02-10</td>\n",
              "      <td>26</td>\n",
              "      <td>11</td>\n",
              "      <td>4</td>\n",
              "      <td>20</td>\n",
              "      <td>10</td>\n",
              "      <td>3</td>\n",
              "      <td>5</td>\n",
              "      <td>2</td>\n",
              "      <td>2</td>\n",
              "      <td>0</td>\n",
              "      <td>4</td>\n",
              "      <td>6</td>\n",
              "      <td>0</td>\n",
              "      <td>0</td>\n",
              "      <td>0</td>\n",
              "      <td>0</td>\n",
              "      <td>0</td>\n",
              "      <td>0</td>\n",
              "      <td>3</td>\n",
              "      <td>11</td>\n",
              "      <td>0</td>\n",
              "      <td>37</td>\n",
              "      <td>1</td>\n",
              "      <td>8</td>\n",
              "      <td>2</td>\n",
              "      <td>53</td>\n",
              "    </tr>\n",
              "    <tr>\n",
              "      <th>4</th>\n",
              "      <td>5324</td>\n",
              "      <td>1981</td>\n",
              "      <td>PhD</td>\n",
              "      <td>couple</td>\n",
              "      <td>58293.0</td>\n",
              "      <td>1</td>\n",
              "      <td>0</td>\n",
              "      <td>2014-01-19</td>\n",
              "      <td>94</td>\n",
              "      <td>173</td>\n",
              "      <td>43</td>\n",
              "      <td>118</td>\n",
              "      <td>46</td>\n",
              "      <td>27</td>\n",
              "      <td>15</td>\n",
              "      <td>5</td>\n",
              "      <td>5</td>\n",
              "      <td>3</td>\n",
              "      <td>6</td>\n",
              "      <td>5</td>\n",
              "      <td>0</td>\n",
              "      <td>0</td>\n",
              "      <td>0</td>\n",
              "      <td>0</td>\n",
              "      <td>0</td>\n",
              "      <td>0</td>\n",
              "      <td>3</td>\n",
              "      <td>11</td>\n",
              "      <td>0</td>\n",
              "      <td>40</td>\n",
              "      <td>2</td>\n",
              "      <td>19</td>\n",
              "      <td>0</td>\n",
              "      <td>422</td>\n",
              "    </tr>\n",
              "  </tbody>\n",
              "</table>\n",
              "</div>"
            ],
            "text/plain": [
              "     ID  Year_Birth   Education Marital_Status   Income  Kidhome  Teenhome  \\\n",
              "0  5524        1957  Graduation      oneperson  58138.0        0         0   \n",
              "1  2174        1954  Graduation      oneperson  46344.0        1         1   \n",
              "2  4141        1965  Graduation         couple  71613.0        0         0   \n",
              "3  6182        1984  Graduation         couple  26646.0        1         0   \n",
              "4  5324        1981         PhD         couple  58293.0        1         0   \n",
              "\n",
              "  Dt_Customer  Recency  MntWines  MntFruits  MntMeatProducts  MntFishProducts  \\\n",
              "0  2012-09-04       58       635         88              546              172   \n",
              "1  2014-03-08       38        11          1                6                2   \n",
              "2  2013-08-21       26       426         49              127              111   \n",
              "3  2014-02-10       26        11          4               20               10   \n",
              "4  2014-01-19       94       173         43              118               46   \n",
              "\n",
              "   MntSweetProducts  MntGoldProds  NumDealsPurchases  NumWebPurchases  \\\n",
              "0                88            88                  3                8   \n",
              "1                 1             6                  2                1   \n",
              "2                21            42                  1                8   \n",
              "3                 3             5                  2                2   \n",
              "4                27            15                  5                5   \n",
              "\n",
              "   NumCatalogPurchases  NumStorePurchases  NumWebVisitsMonth  AcceptedCmp3  \\\n",
              "0                   10                  4                  7             0   \n",
              "1                    1                  2                  5             0   \n",
              "2                    2                 10                  4             0   \n",
              "3                    0                  4                  6             0   \n",
              "4                    3                  6                  5             0   \n",
              "\n",
              "   AcceptedCmp4  AcceptedCmp5  AcceptedCmp1  AcceptedCmp2  Complain  \\\n",
              "0             0             0             0             0         0   \n",
              "1             0             0             0             0         0   \n",
              "2             0             0             0             0         0   \n",
              "3             0             0             0             0         0   \n",
              "4             0             0             0             0         0   \n",
              "\n",
              "   Z_CostContact  Z_Revenue  Response  Age  RecencyCluster  Frequency  \\\n",
              "0              3         11         1   64               0         25   \n",
              "1              3         11         0   67               0          6   \n",
              "2              3         11         0   56               1         21   \n",
              "3              3         11         0   37               1          8   \n",
              "4              3         11         0   40               2         19   \n",
              "\n",
              "   FrequencyCluster  Monetary  \n",
              "0                 1      1617  \n",
              "1                 2        27  \n",
              "2                 1       776  \n",
              "3                 2        53  \n",
              "4                 0       422  "
            ]
          },
          "metadata": {
            "tags": []
          },
          "execution_count": 106
        }
      ]
    },
    {
      "cell_type": "code",
      "metadata": {
        "colab": {
          "base_uri": "https://localhost:8080/",
          "height": 370
        },
        "id": "ZgrcnC6c7yMK",
        "outputId": "121d3eaa-c9fa-4918-ae88-b622c0589e8f"
      },
      "source": [
        "number_of_cluster(\"Monetary\")"
      ],
      "execution_count": 107,
      "outputs": [
        {
          "output_type": "display_data",
          "data": {
            "image/png": "[encoded data removed]",
            "text/plain": [
              "<Figure size 720x360 with 1 Axes>"
            ]
          },
          "metadata": {
            "tags": []
          }
        }
      ]
    },
    {
      "cell_type": "code",
      "metadata": {
        "id": "n2ObNY9LBkht"
      },
      "source": [
        "create_cluster(ifood, 'Monetary', 'MonetaryCluster')"
      ],
      "execution_count": 108,
      "outputs": []
    },
    {
      "cell_type": "code",
      "metadata": {
        "colab": {
          "base_uri": "https://localhost:8080/",
          "height": 173
        },
        "id": "hZuDkRidCXEE",
        "outputId": "092f36e5-4085-4ce0-c218-f8c68b7c1c00"
      },
      "source": [
        "# Details of each cluster\r\n",
        "ifood.groupby('MonetaryCluster')['Monetary'].describe()"
      ],
      "execution_count": 109,
      "outputs": [
        {
          "output_type": "execute_result",
          "data": {
            "text/html": [
              "<div>\n",
              "<style scoped>\n",
              "    .dataframe tbody tr th:only-of-type {\n",
              "        vertical-align: middle;\n",
              "    }\n",
              "\n",
              "    .dataframe tbody tr th {\n",
              "        vertical-align: top;\n",
              "    }\n",
              "\n",
              "    .dataframe thead th {\n",
              "        text-align: right;\n",
              "    }\n",
              "</style>\n",
              "<table border=\"1\" class=\"dataframe\">\n",
              "  <thead>\n",
              "    <tr style=\"text-align: right;\">\n",
              "      <th></th>\n",
              "      <th>count</th>\n",
              "      <th>mean</th>\n",
              "      <th>std</th>\n",
              "      <th>min</th>\n",
              "      <th>25%</th>\n",
              "      <th>50%</th>\n",
              "      <th>75%</th>\n",
              "      <th>max</th>\n",
              "    </tr>\n",
              "    <tr>\n",
              "      <th>MonetaryCluster</th>\n",
              "      <th></th>\n",
              "      <th></th>\n",
              "      <th></th>\n",
              "      <th></th>\n",
              "      <th></th>\n",
              "      <th></th>\n",
              "      <th></th>\n",
              "      <th></th>\n",
              "    </tr>\n",
              "  </thead>\n",
              "  <tbody>\n",
              "    <tr>\n",
              "      <th>0</th>\n",
              "      <td>1271.0</td>\n",
              "      <td>152.561762</td>\n",
              "      <td>146.149376</td>\n",
              "      <td>5.0</td>\n",
              "      <td>44.0</td>\n",
              "      <td>81.0</td>\n",
              "      <td>241.0</td>\n",
              "      <td>535.0</td>\n",
              "    </tr>\n",
              "    <tr>\n",
              "      <th>1</th>\n",
              "      <td>607.0</td>\n",
              "      <td>920.140033</td>\n",
              "      <td>211.820161</td>\n",
              "      <td>541.0</td>\n",
              "      <td>734.5</td>\n",
              "      <td>929.0</td>\n",
              "      <td>1101.0</td>\n",
              "      <td>1295.0</td>\n",
              "    </tr>\n",
              "    <tr>\n",
              "      <th>2</th>\n",
              "      <td>362.0</td>\n",
              "      <td>1670.046961</td>\n",
              "      <td>271.940652</td>\n",
              "      <td>1298.0</td>\n",
              "      <td>1453.5</td>\n",
              "      <td>1616.5</td>\n",
              "      <td>1832.0</td>\n",
              "      <td>2525.0</td>\n",
              "    </tr>\n",
              "  </tbody>\n",
              "</table>\n",
              "</div>"
            ],
            "text/plain": [
              "                  count         mean         std     min     25%     50%  \\\n",
              "MonetaryCluster                                                            \n",
              "0                1271.0   152.561762  146.149376     5.0    44.0    81.0   \n",
              "1                 607.0   920.140033  211.820161   541.0   734.5   929.0   \n",
              "2                 362.0  1670.046961  271.940652  1298.0  1453.5  1616.5   \n",
              "\n",
              "                    75%     max  \n",
              "MonetaryCluster                  \n",
              "0                 241.0   535.0  \n",
              "1                1101.0  1295.0  \n",
              "2                1832.0  2525.0  "
            ]
          },
          "metadata": {
            "tags": []
          },
          "execution_count": 109
        }
      ]
    },
    {
      "cell_type": "markdown",
      "metadata": {
        "id": "EqTSpyBiKFPZ"
      },
      "source": [
        "### Traçando uma linha de regressão com os dados.\r\n",
        "### E analisando se há correlação.\r\n",
        "- Recency   x Monetary\r\n",
        "- Frequency x Monetary"
      ]
    },
    {
      "cell_type": "code",
      "metadata": {
        "colab": {
          "base_uri": "https://localhost:8080/",
          "height": 232
        },
        "id": "KC4ZAVVLxJfJ",
        "outputId": "c29a9825-6257-461a-fc15-a474a96e5222"
      },
      "source": [
        "fig = plt.figure(figsize=(14,6))\r\n",
        "f1 = fig.add_subplot(221); sns.regplot(x='Recency', y='Monetary', data=ifood)\r\n",
        "plt.title(\"Recency x Monetary\")\r\n",
        "f1 = fig.add_subplot(222); sns.regplot(x='Frequency', y='Monetary', data=ifood)\r\n",
        "plt.title(\"Frequency x Monetary\")\r\n",
        "\r\n",
        "plt.show()"
      ],
      "execution_count": 110,
      "outputs": [
        {
          "output_type": "display_data",
          "data": {
            "image/png": "[encoded data removed]",
            "text/plain": [
              "<Figure size 1008x432 with 2 Axes>"
            ]
          },
          "metadata": {
            "tags": []
          }
        }
      ]
    },
    {
      "cell_type": "markdown",
      "metadata": {
        "id": "PEpCWRiNUgdm"
      },
      "source": [
        "### Correlação entre Recency e Monetary"
      ]
    },
    {
      "cell_type": "code",
      "metadata": {
        "colab": {
          "base_uri": "https://localhost:8080/",
          "height": 111
        },
        "id": "jypw39X1UVes",
        "outputId": "119bbcee-fd66-4c1e-c0da-4d840fba32ec"
      },
      "source": [
        "ifood[['Recency', 'Monetary']].corr()"
      ],
      "execution_count": 111,
      "outputs": [
        {
          "output_type": "execute_result",
          "data": {
            "text/html": [
              "<div>\n",
              "<style scoped>\n",
              "    .dataframe tbody tr th:only-of-type {\n",
              "        vertical-align: middle;\n",
              "    }\n",
              "\n",
              "    .dataframe tbody tr th {\n",
              "        vertical-align: top;\n",
              "    }\n",
              "\n",
              "    .dataframe thead th {\n",
              "        text-align: right;\n",
              "    }\n",
              "</style>\n",
              "<table border=\"1\" class=\"dataframe\">\n",
              "  <thead>\n",
              "    <tr style=\"text-align: right;\">\n",
              "      <th></th>\n",
              "      <th>Recency</th>\n",
              "      <th>Monetary</th>\n",
              "    </tr>\n",
              "  </thead>\n",
              "  <tbody>\n",
              "    <tr>\n",
              "      <th>Recency</th>\n",
              "      <td>1.000000</td>\n",
              "      <td>0.020433</td>\n",
              "    </tr>\n",
              "    <tr>\n",
              "      <th>Monetary</th>\n",
              "      <td>0.020433</td>\n",
              "      <td>1.000000</td>\n",
              "    </tr>\n",
              "  </tbody>\n",
              "</table>\n",
              "</div>"
            ],
            "text/plain": [
              "           Recency  Monetary\n",
              "Recency   1.000000  0.020433\n",
              "Monetary  0.020433  1.000000"
            ]
          },
          "metadata": {
            "tags": []
          },
          "execution_count": 111
        }
      ]
    },
    {
      "cell_type": "markdown",
      "metadata": {
        "id": "lz1YbLtKUqHX"
      },
      "source": [
        "### Correlação entre Frequency e Monetary"
      ]
    },
    {
      "cell_type": "code",
      "metadata": {
        "colab": {
          "base_uri": "https://localhost:8080/",
          "height": 111
        },
        "id": "jNBU-ryyUozT",
        "outputId": "051b1954-7ecb-4687-b39f-871f3e2cf0d2"
      },
      "source": [
        "ifood[['Frequency', 'Monetary']].corr()"
      ],
      "execution_count": 112,
      "outputs": [
        {
          "output_type": "execute_result",
          "data": {
            "text/html": [
              "<div>\n",
              "<style scoped>\n",
              "    .dataframe tbody tr th:only-of-type {\n",
              "        vertical-align: middle;\n",
              "    }\n",
              "\n",
              "    .dataframe tbody tr th {\n",
              "        vertical-align: top;\n",
              "    }\n",
              "\n",
              "    .dataframe thead th {\n",
              "        text-align: right;\n",
              "    }\n",
              "</style>\n",
              "<table border=\"1\" class=\"dataframe\">\n",
              "  <thead>\n",
              "    <tr style=\"text-align: right;\">\n",
              "      <th></th>\n",
              "      <th>Frequency</th>\n",
              "      <th>Monetary</th>\n",
              "    </tr>\n",
              "  </thead>\n",
              "  <tbody>\n",
              "    <tr>\n",
              "      <th>Frequency</th>\n",
              "      <td>1.000000</td>\n",
              "      <td>0.753903</td>\n",
              "    </tr>\n",
              "    <tr>\n",
              "      <th>Monetary</th>\n",
              "      <td>0.753903</td>\n",
              "      <td>1.000000</td>\n",
              "    </tr>\n",
              "  </tbody>\n",
              "</table>\n",
              "</div>"
            ],
            "text/plain": [
              "           Frequency  Monetary\n",
              "Frequency   1.000000  0.753903\n",
              "Monetary    0.753903  1.000000"
            ]
          },
          "metadata": {
            "tags": []
          },
          "execution_count": 112
        }
      ]
    },
    {
      "cell_type": "markdown",
      "metadata": {
        "id": "24Z9t1lzLHfe"
      },
      "source": [
        "### Recency x Monetary\r\n",
        "#### A correlação entre a variável Recency, que identifica o número de dias desde a última compra e o valor Monetary, que representa o total de compras (Dolar) nos últimos 2 anos é nula. A visualização dos dados confirma essa informação.\r\n",
        "### Frequency x Monetary\r\n",
        "#### Apresenta uma correlação positiva, quanto maior o valor de Frequency( total de itens comprados no periodo) maior o total de compras no periodo."
      ]
    },
    {
      "cell_type": "markdown",
      "metadata": {
        "id": "_VOrz65-KpPo"
      },
      "source": [
        "### Plotando um gráfico 3D"
      ]
    },
    {
      "cell_type": "code",
      "metadata": {
        "colab": {
          "base_uri": "https://localhost:8080/",
          "height": 312
        },
        "id": "KOrc_rC_KfDU",
        "outputId": "00c0bf5e-d81d-41b4-d424-9386a63a5fb3"
      },
      "source": [
        "X = ifood[['Recency','Frequency','Monetary']].copy()\r\n",
        "scaler = StandardScaler()\r\n",
        "X = scaler.fit_transform(X)\r\n",
        "\r\n",
        "fig = plt.figure(figsize=(9, 5))\r\n",
        "ax = fig.add_subplot(111, projection='3d')\r\n",
        "\r\n",
        "xs = X[:,0] # Recency\r\n",
        "ys = X[:,1] # Frequency\r\n",
        "zs = X[:,2] # Monetary\r\n",
        "\r\n",
        "ax.scatter(xs, ys, zs, s=5)\r\n",
        "\r\n",
        "ax.set_xlabel('Recency')\r\n",
        "ax.set_ylabel('Frequency')\r\n",
        "ax.set_zlabel('Monetary')\r\n",
        "plt.title(\"Recency x Frequency x Monetary\\n\")\r\n",
        "plt.show()"
      ],
      "execution_count": 113,
      "outputs": [
        {
          "output_type": "display_data",
          "data": {
            "image/png": "[encoded data removed]",
            "text/plain": [
              "<Figure size 648x360 with 1 Axes>"
            ]
          },
          "metadata": {
            "tags": []
          }
        }
      ]
    },
    {
      "cell_type": "markdown",
      "metadata": {
        "id": "ro_qJneV9TEP"
      },
      "source": [
        "### Criando um cluster a partir da coluna Age"
      ]
    },
    {
      "cell_type": "code",
      "metadata": {
        "colab": {
          "base_uri": "https://localhost:8080/",
          "height": 370
        },
        "id": "Yu0J887B9Pzw",
        "outputId": "ee1cbd9c-4d0a-4737-c885-5f4d8a441220"
      },
      "source": [
        "number_of_cluster(\"Age\")"
      ],
      "execution_count": 114,
      "outputs": [
        {
          "output_type": "display_data",
          "data": {
            "image/png": "[encoded data removed]",
            "text/plain": [
              "<Figure size 720x360 with 1 Axes>"
            ]
          },
          "metadata": {
            "tags": []
          }
        }
      ]
    },
    {
      "cell_type": "code",
      "metadata": {
        "id": "JW8qF7J9DkQp"
      },
      "source": [
        "create_cluster(ifood, 'Age', 'AgeCluster')"
      ],
      "execution_count": 115,
      "outputs": []
    },
    {
      "cell_type": "code",
      "metadata": {
        "colab": {
          "base_uri": "https://localhost:8080/",
          "height": 173
        },
        "id": "XnoiZAKyDjma",
        "outputId": "adbb0838-a4f5-4c49-d37c-9671a4b66e11"
      },
      "source": [
        "ifood.groupby('AgeCluster')['Age'].describe()"
      ],
      "execution_count": 116,
      "outputs": [
        {
          "output_type": "execute_result",
          "data": {
            "text/html": [
              "<div>\n",
              "<style scoped>\n",
              "    .dataframe tbody tr th:only-of-type {\n",
              "        vertical-align: middle;\n",
              "    }\n",
              "\n",
              "    .dataframe tbody tr th {\n",
              "        vertical-align: top;\n",
              "    }\n",
              "\n",
              "    .dataframe thead th {\n",
              "        text-align: right;\n",
              "    }\n",
              "</style>\n",
              "<table border=\"1\" class=\"dataframe\">\n",
              "  <thead>\n",
              "    <tr style=\"text-align: right;\">\n",
              "      <th></th>\n",
              "      <th>count</th>\n",
              "      <th>mean</th>\n",
              "      <th>std</th>\n",
              "      <th>min</th>\n",
              "      <th>25%</th>\n",
              "      <th>50%</th>\n",
              "      <th>75%</th>\n",
              "      <th>max</th>\n",
              "    </tr>\n",
              "    <tr>\n",
              "      <th>AgeCluster</th>\n",
              "      <th></th>\n",
              "      <th></th>\n",
              "      <th></th>\n",
              "      <th></th>\n",
              "      <th></th>\n",
              "      <th></th>\n",
              "      <th></th>\n",
              "      <th></th>\n",
              "    </tr>\n",
              "  </thead>\n",
              "  <tbody>\n",
              "    <tr>\n",
              "      <th>0</th>\n",
              "      <td>554.0</td>\n",
              "      <td>37.357401</td>\n",
              "      <td>4.397360</td>\n",
              "      <td>25.0</td>\n",
              "      <td>34.0</td>\n",
              "      <td>38.0</td>\n",
              "      <td>41.0</td>\n",
              "      <td>43.0</td>\n",
              "    </tr>\n",
              "    <tr>\n",
              "      <th>1</th>\n",
              "      <td>699.0</td>\n",
              "      <td>66.517883</td>\n",
              "      <td>6.054969</td>\n",
              "      <td>59.0</td>\n",
              "      <td>62.0</td>\n",
              "      <td>66.0</td>\n",
              "      <td>70.0</td>\n",
              "      <td>128.0</td>\n",
              "    </tr>\n",
              "    <tr>\n",
              "      <th>2</th>\n",
              "      <td>987.0</td>\n",
              "      <td>50.377913</td>\n",
              "      <td>4.110053</td>\n",
              "      <td>44.0</td>\n",
              "      <td>47.0</td>\n",
              "      <td>50.0</td>\n",
              "      <td>54.0</td>\n",
              "      <td>58.0</td>\n",
              "    </tr>\n",
              "  </tbody>\n",
              "</table>\n",
              "</div>"
            ],
            "text/plain": [
              "            count       mean       std   min   25%   50%   75%    max\n",
              "AgeCluster                                                           \n",
              "0           554.0  37.357401  4.397360  25.0  34.0  38.0  41.0   43.0\n",
              "1           699.0  66.517883  6.054969  59.0  62.0  66.0  70.0  128.0\n",
              "2           987.0  50.377913  4.110053  44.0  47.0  50.0  54.0   58.0"
            ]
          },
          "metadata": {
            "tags": []
          },
          "execution_count": 116
        }
      ]
    },
    {
      "cell_type": "markdown",
      "metadata": {
        "id": "1EQDLTErNmDV"
      },
      "source": [
        "### Criando um cluster a partir da coluna NumWebVisitsMonth\r\n",
        "### Número de Visitas ao Site por Mês"
      ]
    },
    {
      "cell_type": "code",
      "metadata": {
        "colab": {
          "base_uri": "https://localhost:8080/",
          "height": 370
        },
        "id": "CJrBiWzLOiNY",
        "outputId": "99dbe1fd-80b3-46b8-c11d-01710e0be305"
      },
      "source": [
        "number_of_cluster(\"NumWebVisitsMonth\")"
      ],
      "execution_count": 117,
      "outputs": [
        {
          "output_type": "display_data",
          "data": {
            "image/png": "[encoded data removed]",
            "text/plain": [
              "<Figure size 720x360 with 1 Axes>"
            ]
          },
          "metadata": {
            "tags": []
          }
        }
      ]
    },
    {
      "cell_type": "code",
      "metadata": {
        "id": "5rn0uuaZNlM7"
      },
      "source": [
        "create_cluster(ifood, 'NumWebVisitsMonth', 'NumWebVisitsMonthCluster')"
      ],
      "execution_count": 118,
      "outputs": []
    },
    {
      "cell_type": "code",
      "metadata": {
        "colab": {
          "base_uri": "https://localhost:8080/",
          "height": 173
        },
        "id": "1ePvZcMLO048",
        "outputId": "3da23693-1d2a-43e2-95b1-b1612dc5e180"
      },
      "source": [
        "ifood.groupby('NumWebVisitsMonthCluster')['NumWebVisitsMonth'].describe()"
      ],
      "execution_count": 119,
      "outputs": [
        {
          "output_type": "execute_result",
          "data": {
            "text/html": [
              "<div>\n",
              "<style scoped>\n",
              "    .dataframe tbody tr th:only-of-type {\n",
              "        vertical-align: middle;\n",
              "    }\n",
              "\n",
              "    .dataframe tbody tr th {\n",
              "        vertical-align: top;\n",
              "    }\n",
              "\n",
              "    .dataframe thead th {\n",
              "        text-align: right;\n",
              "    }\n",
              "</style>\n",
              "<table border=\"1\" class=\"dataframe\">\n",
              "  <thead>\n",
              "    <tr style=\"text-align: right;\">\n",
              "      <th></th>\n",
              "      <th>count</th>\n",
              "      <th>mean</th>\n",
              "      <th>std</th>\n",
              "      <th>min</th>\n",
              "      <th>25%</th>\n",
              "      <th>50%</th>\n",
              "      <th>75%</th>\n",
              "      <th>max</th>\n",
              "    </tr>\n",
              "    <tr>\n",
              "      <th>NumWebVisitsMonthCluster</th>\n",
              "      <th></th>\n",
              "      <th></th>\n",
              "      <th></th>\n",
              "      <th></th>\n",
              "      <th></th>\n",
              "      <th></th>\n",
              "      <th></th>\n",
              "      <th></th>\n",
              "    </tr>\n",
              "  </thead>\n",
              "  <tbody>\n",
              "    <tr>\n",
              "      <th>0</th>\n",
              "      <td>830.0</td>\n",
              "      <td>7.734940</td>\n",
              "      <td>1.243408</td>\n",
              "      <td>7.0</td>\n",
              "      <td>7.0</td>\n",
              "      <td>8.0</td>\n",
              "      <td>8.0</td>\n",
              "      <td>20.0</td>\n",
              "    </tr>\n",
              "    <tr>\n",
              "      <th>1</th>\n",
              "      <td>789.0</td>\n",
              "      <td>2.590621</td>\n",
              "      <td>1.125822</td>\n",
              "      <td>0.0</td>\n",
              "      <td>2.0</td>\n",
              "      <td>3.0</td>\n",
              "      <td>4.0</td>\n",
              "      <td>4.0</td>\n",
              "    </tr>\n",
              "    <tr>\n",
              "      <th>2</th>\n",
              "      <td>621.0</td>\n",
              "      <td>5.547504</td>\n",
              "      <td>0.498139</td>\n",
              "      <td>5.0</td>\n",
              "      <td>5.0</td>\n",
              "      <td>6.0</td>\n",
              "      <td>6.0</td>\n",
              "      <td>6.0</td>\n",
              "    </tr>\n",
              "  </tbody>\n",
              "</table>\n",
              "</div>"
            ],
            "text/plain": [
              "                          count      mean       std  min  25%  50%  75%   max\n",
              "NumWebVisitsMonthCluster                                                     \n",
              "0                         830.0  7.734940  1.243408  7.0  7.0  8.0  8.0  20.0\n",
              "1                         789.0  2.590621  1.125822  0.0  2.0  3.0  4.0   4.0\n",
              "2                         621.0  5.547504  0.498139  5.0  5.0  6.0  6.0   6.0"
            ]
          },
          "metadata": {
            "tags": []
          },
          "execution_count": 119
        }
      ]
    },
    {
      "cell_type": "markdown",
      "metadata": {
        "id": "dSn4tDX2O98J"
      },
      "source": [
        "### Análise de Correlação.\r\n",
        "- Age x Monetary\r\n",
        "-  NumWebVisitsMonth x Monetary"
      ]
    },
    {
      "cell_type": "code",
      "metadata": {
        "colab": {
          "base_uri": "https://localhost:8080/",
          "height": 232
        },
        "id": "griQ5L2XD_3s",
        "outputId": "2673a864-37e0-474e-d8a0-d14d460b3133"
      },
      "source": [
        "fig = plt.figure(figsize=(14,6))\r\n",
        "f1 = fig.add_subplot(221); sns.regplot(x='Age', y='Monetary', data=ifood)\r\n",
        "plt.title(\"Age x Monetary\")\r\n",
        "f1 = fig.add_subplot(222); sns.regplot(x='NumWebVisitsMonth', y='Monetary', data=ifood)\r\n",
        "plt.title(\"NumWebVisitsMonth x Monetary\")\r\n",
        "plt.show()"
      ],
      "execution_count": 120,
      "outputs": [
        {
          "output_type": "display_data",
          "data": {
            "image/png": "[encoded data removed]",
            "text/plain": [
              "<Figure size 1008x432 with 2 Axes>"
            ]
          },
          "metadata": {
            "tags": []
          }
        }
      ]
    },
    {
      "cell_type": "markdown",
      "metadata": {
        "id": "y0Ugji0pUCjJ"
      },
      "source": [
        "### Correlação entre Age e Monetary"
      ]
    },
    {
      "cell_type": "code",
      "metadata": {
        "colab": {
          "base_uri": "https://localhost:8080/",
          "height": 111
        },
        "id": "vdwHf3lzTDaa",
        "outputId": "47aed209-5ade-4bec-f2c2-c3de2bd88056"
      },
      "source": [
        "ifood[['Age', 'Monetary']].corr()"
      ],
      "execution_count": 121,
      "outputs": [
        {
          "output_type": "execute_result",
          "data": {
            "text/html": [
              "<div>\n",
              "<style scoped>\n",
              "    .dataframe tbody tr th:only-of-type {\n",
              "        vertical-align: middle;\n",
              "    }\n",
              "\n",
              "    .dataframe tbody tr th {\n",
              "        vertical-align: top;\n",
              "    }\n",
              "\n",
              "    .dataframe thead th {\n",
              "        text-align: right;\n",
              "    }\n",
              "</style>\n",
              "<table border=\"1\" class=\"dataframe\">\n",
              "  <thead>\n",
              "    <tr style=\"text-align: right;\">\n",
              "      <th></th>\n",
              "      <th>Age</th>\n",
              "      <th>Monetary</th>\n",
              "    </tr>\n",
              "  </thead>\n",
              "  <tbody>\n",
              "    <tr>\n",
              "      <th>Age</th>\n",
              "      <td>1.000000</td>\n",
              "      <td>0.111306</td>\n",
              "    </tr>\n",
              "    <tr>\n",
              "      <th>Monetary</th>\n",
              "      <td>0.111306</td>\n",
              "      <td>1.000000</td>\n",
              "    </tr>\n",
              "  </tbody>\n",
              "</table>\n",
              "</div>"
            ],
            "text/plain": [
              "               Age  Monetary\n",
              "Age       1.000000  0.111306\n",
              "Monetary  0.111306  1.000000"
            ]
          },
          "metadata": {
            "tags": []
          },
          "execution_count": 121
        }
      ]
    },
    {
      "cell_type": "markdown",
      "metadata": {
        "id": "xe45iGFlUJ26"
      },
      "source": [
        "### Correlação entre NumWebVisitsMonth e Monetary"
      ]
    },
    {
      "cell_type": "code",
      "metadata": {
        "colab": {
          "base_uri": "https://localhost:8080/",
          "height": 111
        },
        "id": "PR18fIOpT1zZ",
        "outputId": "b45795b4-8405-4644-9ca8-2bbab7e8b89f"
      },
      "source": [
        "ifood[['NumWebVisitsMonth', 'Monetary']].corr()"
      ],
      "execution_count": 122,
      "outputs": [
        {
          "output_type": "execute_result",
          "data": {
            "text/html": [
              "<div>\n",
              "<style scoped>\n",
              "    .dataframe tbody tr th:only-of-type {\n",
              "        vertical-align: middle;\n",
              "    }\n",
              "\n",
              "    .dataframe tbody tr th {\n",
              "        vertical-align: top;\n",
              "    }\n",
              "\n",
              "    .dataframe thead th {\n",
              "        text-align: right;\n",
              "    }\n",
              "</style>\n",
              "<table border=\"1\" class=\"dataframe\">\n",
              "  <thead>\n",
              "    <tr style=\"text-align: right;\">\n",
              "      <th></th>\n",
              "      <th>NumWebVisitsMonth</th>\n",
              "      <th>Monetary</th>\n",
              "    </tr>\n",
              "  </thead>\n",
              "  <tbody>\n",
              "    <tr>\n",
              "      <th>NumWebVisitsMonth</th>\n",
              "      <td>1.000000</td>\n",
              "      <td>-0.500218</td>\n",
              "    </tr>\n",
              "    <tr>\n",
              "      <th>Monetary</th>\n",
              "      <td>-0.500218</td>\n",
              "      <td>1.000000</td>\n",
              "    </tr>\n",
              "  </tbody>\n",
              "</table>\n",
              "</div>"
            ],
            "text/plain": [
              "                   NumWebVisitsMonth  Monetary\n",
              "NumWebVisitsMonth           1.000000 -0.500218\n",
              "Monetary                   -0.500218  1.000000"
            ]
          },
          "metadata": {
            "tags": []
          },
          "execution_count": 122
        }
      ]
    },
    {
      "cell_type": "markdown",
      "metadata": {
        "id": "yyOg5pfJSUtp"
      },
      "source": [
        "### Age x Monetary\r\n",
        "#### A correlação entre a variável Age, que identifica a idade do cliente e o valor Monetary é positiva. A visualização dos dados confirma essa informação.\r\n",
        "### NumWebVisitsMonth x Monetary\r\n",
        "#### Apresenta uma correlação negativa, quanto maior o número de visitas ao site mensalmente, menor o total de compras no periodo."
      ]
    },
    {
      "cell_type": "code",
      "metadata": {
        "colab": {
          "base_uri": "https://localhost:8080/",
          "height": 312
        },
        "id": "SDqM2f4iQDxe",
        "outputId": "0cf46932-79fe-4c96-d63c-1ed71b8ff8dd"
      },
      "source": [
        "X = ifood[['Age','NumWebVisitsMonth','Monetary']].copy()\r\n",
        "scaler = StandardScaler()\r\n",
        "X = scaler.fit_transform(X)\r\n",
        "\r\n",
        "fig = plt.figure(figsize=(9, 5))\r\n",
        "ax = fig.add_subplot(111, projection='3d')\r\n",
        "\r\n",
        "xs = X[:,0] # Age\r\n",
        "ys = X[:,1] # NumWebVisitsMonth\r\n",
        "zs = X[:,2] # Monetary\r\n",
        "\r\n",
        "ax.scatter(xs, ys, zs, s=5)\r\n",
        "\r\n",
        "ax.set_xlabel('Age')\r\n",
        "ax.set_ylabel('NumWebVisitsMonth')\r\n",
        "ax.set_zlabel('Monetary')\r\n",
        "plt.title(\"Age x NumWebVisitsMonth x Monetary\\n\")\r\n",
        "plt.show()"
      ],
      "execution_count": 123,
      "outputs": [
        {
          "output_type": "display_data",
          "data": {
            "image/png": "[encoded data removed]",
            "text/plain": [
              "<Figure size 648x360 with 1 Axes>"
            ]
          },
          "metadata": {
            "tags": []
          }
        }
      ]
    },
    {
      "cell_type": "markdown",
      "metadata": {
        "id": "nac4l4DuBL9q"
      },
      "source": [
        "### Análise da Distribuição dos Clusters"
      ]
    },
    {
      "cell_type": "code",
      "metadata": {
        "id": "d_Jba7d6Hi68"
      },
      "source": [
        "def create_boxplot(clusters):\r\n",
        "  #fig = plt.figure(figsize=(10, 5))\r\n",
        "  for i,el in enumerate(clusters):\r\n",
        "    fig = sns.boxplot(x=clusters[i], y='Monetary', data=ifood)\r\n",
        "    plt.title(\"\\n\"+clusters[i]+\" x Monetary\")\r\n",
        "    plt.show();"
      ],
      "execution_count": 124,
      "outputs": []
    },
    {
      "cell_type": "code",
      "metadata": {
        "id": "FCYTopvA1euj"
      },
      "source": [
        "ifood_clusters = ['RecencyCluster','FrequencyCluster',\r\n",
        "       'MonetaryCluster']"
      ],
      "execution_count": 125,
      "outputs": []
    },
    {
      "cell_type": "code",
      "metadata": {
        "colab": {
          "base_uri": "https://localhost:8080/",
          "height": 914
        },
        "id": "0ZQZRrUmH_hS",
        "outputId": "4a7a86a0-63b1-43f4-d440-e6af65cad43d"
      },
      "source": [
        "create_boxplot(ifood_clusters)"
      ],
      "execution_count": 126,
      "outputs": [
        {
          "output_type": "display_data",
          "data": {
            "image/png": "[encoded data removed]",
            "text/plain": [
              "<Figure size 432x288 with 1 Axes>"
            ]
          },
          "metadata": {
            "tags": []
          }
        },
        {
          "output_type": "display_data",
          "data": {
            "image/png": "[encoded data removed]",
            "text/plain": [
              "<Figure size 432x288 with 1 Axes>"
            ]
          },
          "metadata": {
            "tags": []
          }
        },
        {
          "output_type": "display_data",
          "data": {
            "image/png": "[encoded data removed]",
            "text/plain": [
              "<Figure size 432x288 with 1 Axes>"
            ]
          },
          "metadata": {
            "tags": []
          }
        }
      ]
    },
    {
      "cell_type": "markdown",
      "metadata": {
        "id": "VLZkXWqg76_Z"
      },
      "source": [
        "## Caracteristicas identificadas a partir do boxplot do Clusters\r\n",
        "## Variáveis: **Recency (R)**, **Frequency  (F)** e **Monetary (M)**\r\n",
        "## Considerando um periodo de 2 anos\r\n",
        "### - **Cluster 0**\r\n",
        "####  O intervalo de compra é semelhante em todos clusters\r\n",
        "####  Apresenta baixos números de compras, possui alguns valores considerados fora do normal (outliers)\r\n",
        "#### Baixo valor acumulado de compras no periodo\r\n",
        "#  \r\n",
        "### - **Cluster 1**\r\n",
        "#### Intervalo de compra é semelhante em todos clusters\r\n",
        "#### Número médio de compras acima de 1000 no periodo\r\n",
        "#### Valor médio de compras por volta de 1000 (Dolares)\r\n",
        "#  \r\n",
        "### - **Cluster 2**\r\n",
        "####  Intervalo de compra é semelhante em todos clusters\r\n",
        "#### Número de compras entre 500 e 1000.\r\n",
        "#### Valor médio de compras por volta de 1500 (Dolares)\r\n",
        "\r\n",
        "\r\n",
        "\r\n"
      ]
    },
    {
      "cell_type": "markdown",
      "metadata": {
        "id": "LFduReIYpeza"
      },
      "source": [
        "# **Ranking dos Clientes**"
      ]
    },
    {
      "cell_type": "markdown",
      "metadata": {
        "id": "EnhEDUbSkVm2"
      },
      "source": [
        "![alt text](https://drive.google.com/uc?id=1KkJS_A5xUE17-oUQ6UfQ29d22ZJFRB4c)"
      ]
    },
    {
      "cell_type": "markdown",
      "metadata": {
        "id": "5_mnY_sfNMWE"
      },
      "source": [
        "## Conclusões possíveis:\r\n",
        "### Os clientes podem ser divididos em 3 grupos:\r\n",
        "## ***Categoria OURO***\r\n",
        "#### Cluster 2 --> Clentes que efetuaram compras entre 500 e 1000 itens e gastaram na média 1500 dolares no periodo\r\n",
        "## ***Categoria PRATA***\r\n",
        "#### Cluster 1 --> Clientes que efetuaram na média acima de 1000 compras (itens) e gastaram por volta de 1000 dolares no periodo\r\n",
        "## ***Categoria BRONZE***\r\n",
        "#### Cluster 0 --> Clientes que compraram e gastaram pouco no periodo."
      ]
    },
    {
      "cell_type": "markdown",
      "metadata": {
        "id": "ozeCBtsIR_J2"
      },
      "source": [
        "### ESTUDOS: \r\n",
        "#### Outras análises podem ser feitas utilizando outras variáveis como por exemplo a coluna Age e  NumWebVisitsMonth.\r\n",
        "#### Foram identificados os cluster usando essas colunas."
      ]
    },
    {
      "cell_type": "code",
      "metadata": {
        "id": "NvZhSGCl7f97"
      },
      "source": [
        "ifood_clusters = ['AgeCluster', 'NumWebVisitsMonthCluster']"
      ],
      "execution_count": 127,
      "outputs": []
    },
    {
      "cell_type": "code",
      "metadata": {
        "colab": {
          "base_uri": "https://localhost:8080/",
          "height": 615
        },
        "id": "jw_JDsY9TTH_",
        "outputId": "4dfb9183-19fa-44f8-e108-52c3bb6cfda5"
      },
      "source": [
        "create_boxplot(ifood_clusters)"
      ],
      "execution_count": 128,
      "outputs": [
        {
          "output_type": "display_data",
          "data": {
            "image/png": "[encoded data removed]",
            "text/plain": [
              "<Figure size 432x288 with 1 Axes>"
            ]
          },
          "metadata": {
            "tags": []
          }
        },
        {
          "output_type": "display_data",
          "data": {
            "image/png": "[encoded data removed]",
            "text/plain": [
              "<Figure size 432x288 with 1 Axes>"
            ]
          },
          "metadata": {
            "tags": []
          }
        }
      ]
    }
  ]
}